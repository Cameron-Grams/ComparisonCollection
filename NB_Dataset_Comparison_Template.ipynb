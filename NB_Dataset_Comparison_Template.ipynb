{
 "cells": [
  {
   "cell_type": "markdown",
   "id": "475c9991",
   "metadata": {},
   "source": [
    "# Template for Gaussian NaiveBayes Comparison"
   ]
  },
  {
   "cell_type": "code",
   "execution_count": 1,
   "id": "d71cc55b",
   "metadata": {},
   "outputs": [],
   "source": [
    "import os\n",
    "import re\n",
    "import pandas as pd\n",
    "import numpy as np\n",
    "import matplotlib.pyplot as plt"
   ]
  },
  {
   "cell_type": "code",
   "execution_count": 2,
   "id": "372d7bed",
   "metadata": {},
   "outputs": [],
   "source": [
    "from sklearn.model_selection import train_test_split\n",
    "\n",
    "from sklearn.naive_bayes import GaussianNB\n",
    "from sklearn.dummy import DummyClassifier\n",
    "from sklearn.metrics import precision_recall_curve, roc_curve, roc_auc_score\n",
    "\n",
    "from sklearn.model_selection import cross_validate, KFold"
   ]
  },
  {
   "cell_type": "code",
   "execution_count": 3,
   "id": "5d4db69b",
   "metadata": {},
   "outputs": [],
   "source": [
    "np.random.seed(0)"
   ]
  },
  {
   "cell_type": "markdown",
   "id": "2e7fdb7a",
   "metadata": {},
   "source": [
    "## Assessment of the Gaussian Naive Bayes Classifier"
   ]
  },
  {
   "cell_type": "code",
   "execution_count": 4,
   "id": "b179d17c",
   "metadata": {},
   "outputs": [],
   "source": [
    "def classifier_assessment(X, y, priors=None):\n",
    "    \"\"\"\n",
    "    GaussianNB comparison for the different datasets\n",
    "\n",
    "    args: X dataset of features\n",
    "          y target set of values for classification\n",
    "\n",
    "    returns: \n",
    "        - a dummy classifier score using \"most frequent\" value assignment\n",
    "        - the mean of the Gaussian NaiveBayes Claffifier prediction scores taken from a \n",
    "          5 fold cross validation on the dataset\n",
    "    \"\"\"\n",
    "    \n",
    "    clf_nb = GaussianNB(priors=priors)\n",
    "    \n",
    "    print(f\"Using prior probability: {priors}\")\n",
    "    \n",
    "    def performance_graphics(X=X, y=y, clf=clf_nb):\n",
    "        \n",
    "        X_train, X_test, y_train, y_test = train_test_split(X, y, random_state=0)\n",
    "        clf.fit(X_train, y_train)\n",
    "     \n",
    "        proba_ = clf.predict_proba(X_test)[:, 1]\n",
    "\n",
    "        precision, recall, thresholds = precision_recall_curve(y_test, proba_)\n",
    "        fp, tp, thresholds_roc = roc_curve(y_test, proba_)\n",
    "        \n",
    "        auc_score = np.round(roc_auc_score(y_test, proba_), 4)\n",
    "\n",
    "        close_default = np.argmin(np.abs(thresholds - 0.5))\n",
    "        close_zero = np.argmin(np.abs(thresholds_roc))\n",
    "\n",
    "        fig, (ax1, ax2) = plt.subplots(1,2, figsize=(15, 4))\n",
    "\n",
    "        ax1.plot(precision, recall, label=\"Precision Recall Curve\")\n",
    "        ax1.plot(precision[close_default], \n",
    "                 recall[close_default], 'o', \n",
    "                 c='r', markersize=10, \n",
    "                 label='threshold 0.5', \n",
    "                 fillstyle=\"none\", mew=2)\n",
    "        ax1.set_title(\"RF performance\")\n",
    "        ax1.set_xlabel(\"Precision\")\n",
    "        ax1.set_ylabel(\"Recall\")\n",
    "        ax1.legend(loc='best')\n",
    "\n",
    "        ax2.plot(fp, tp, label=\"ROC curve\")\n",
    "        ax2.plot(fp[close_zero], \n",
    "                 tp[close_zero], 'o', \n",
    "                 c='r', markersize=10, \n",
    "                 label='threshold 0', \n",
    "                 fillstyle=\"none\", mew=2)\n",
    "        ax2.set_title(f\"ROC performance: AUC Score {auc_score}\")\n",
    "        ax2.set_xlabel(\"False Positive Rate\")\n",
    "        ax2.set_ylabel(\"True Positive (Recall)\")\n",
    "        ax2.legend(loc='best')\n",
    "\n",
    "        plt.show();\n",
    "\n",
    "    kfold = KFold(n_splits=5)\n",
    "    cross_val = cross_validate(clf_nb, X, y, cv=kfold, return_estimator=True)\n",
    "    mean_score = cross_val['test_score'].mean()\n",
    "        \n",
    "    dummy_clf = DummyClassifier(strategy=\"most_frequent\")\n",
    "    dummy_clf.fit(X,y)\n",
    "    d_score = dummy_clf.score(X,y)\n",
    "    \n",
    "    graphic = performance_graphics\n",
    "\n",
    "    return d_score, mean_score, graphic"
   ]
  },
  {
   "cell_type": "code",
   "execution_count": null,
   "id": "9ec5f1a4",
   "metadata": {},
   "outputs": [],
   "source": []
  },
  {
   "cell_type": "markdown",
   "id": "a1f9417e",
   "metadata": {},
   "source": [
    "# Compare Datasets\n",
    "\n",
    "Leave commented until all values are in scope, then uncomment and compare. "
   ]
  },
  {
   "cell_type": "code",
   "execution_count": 47,
   "id": "0bd19082",
   "metadata": {},
   "outputs": [
    {
     "data": {
      "text/html": [
       "<div>\n",
       "<style scoped>\n",
       "    .dataframe tbody tr th:only-of-type {\n",
       "        vertical-align: middle;\n",
       "    }\n",
       "\n",
       "    .dataframe tbody tr th {\n",
       "        vertical-align: top;\n",
       "    }\n",
       "\n",
       "    .dataframe thead th {\n",
       "        text-align: right;\n",
       "    }\n",
       "</style>\n",
       "<table border=\"1\" class=\"dataframe\">\n",
       "  <thead>\n",
       "    <tr style=\"text-align: right;\">\n",
       "      <th></th>\n",
       "      <th>dummy classifier</th>\n",
       "      <th>cross val score</th>\n",
       "      <th>data set shape</th>\n",
       "    </tr>\n",
       "  </thead>\n",
       "  <tbody>\n",
       "    <tr>\n",
       "      <th>testing dataset</th>\n",
       "      <td>0.73494</td>\n",
       "      <td>0.891176</td>\n",
       "      <td>(83, 2)</td>\n",
       "    </tr>\n",
       "    <tr>\n",
       "      <th>testing and acs datasets</th>\n",
       "      <td>0.73494</td>\n",
       "      <td>0.891176</td>\n",
       "      <td>(83, 119)</td>\n",
       "    </tr>\n",
       "    <tr>\n",
       "      <th>testing, acs, and county survey</th>\n",
       "      <td>0.73494</td>\n",
       "      <td>0.891176</td>\n",
       "      <td>(83, 210)</td>\n",
       "    </tr>\n",
       "    <tr>\n",
       "      <th>plus voters</th>\n",
       "      <td>0.73494</td>\n",
       "      <td>0.891176</td>\n",
       "      <td>(83, 211)</td>\n",
       "    </tr>\n",
       "    <tr>\n",
       "      <th>plus voters, prior probability</th>\n",
       "      <td>0.73494</td>\n",
       "      <td>0.891176</td>\n",
       "      <td>(83, 211)</td>\n",
       "    </tr>\n",
       "  </tbody>\n",
       "</table>\n",
       "</div>"
      ],
      "text/plain": [
       "                                 dummy classifier  cross val score  \\\n",
       "testing dataset                           0.73494         0.891176   \n",
       "testing and acs datasets                  0.73494         0.891176   \n",
       "testing, acs, and county survey           0.73494         0.891176   \n",
       "plus voters                               0.73494         0.891176   \n",
       "plus voters, prior probability            0.73494         0.891176   \n",
       "\n",
       "                                data set shape  \n",
       "testing dataset                        (83, 2)  \n",
       "testing and acs datasets             (83, 119)  \n",
       "testing, acs, and county survey      (83, 210)  \n",
       "plus voters                          (83, 211)  \n",
       "plus voters, prior probability       (83, 211)  "
      ]
     },
     "execution_count": 47,
     "metadata": {},
     "output_type": "execute_result"
    }
   ],
   "source": [
    "# # # # # # # # # The results of the combinations: \n",
    "\n",
    "obj_ = [('testing dataset', dummy_single,  single_score, (83, 2)), \n",
    "       ('testing and acs datasets', dummy_double, score_two_datasets, (83, 119)),\\\n",
    "       ('testing, acs, and county survey',dummy_tripple, three_ds_score, (83, 210)), \\\n",
    "       ('plus voters', dummy_four, four_ds_score, (83, 211)), \\\n",
    "       ('plus voters, prior probability', dummy_four_p, four_ds_score_p, (83, 211))]\n",
    "\n",
    "condition = [c[0] for c in obj_]\n",
    "dummy_results = [d[1] for d in obj_]\n",
    "results = [r[2] for r in obj_]\n",
    "shape = [s[3] for s in obj_]\n",
    "\n",
    "pd.DataFrame({'dummy classifier': dummy_results, 'cross val score': results, 'data set shape': shape}, index=condition)"
   ]
  },
  {
   "cell_type": "code",
   "execution_count": 49,
   "id": "dc8126c5",
   "metadata": {},
   "outputs": [
    {
     "data": {
      "image/png": "[encoded data removed]",
      "text/plain": [
       "<Figure size 1080x288 with 2 Axes>"
      ]
     },
     "metadata": {
      "needs_background": "light"
     },
     "output_type": "display_data"
    }
   ],
   "source": [
    "# graphic_single()\n",
    "# graphic_two()\n",
    "# graphic_three()\n",
    "# graphic_four()\n",
    "# graphic_four_p()"
   ]
  },
  {
   "cell_type": "markdown",
   "id": "3f7cc0bb",
   "metadata": {},
   "source": [
    "## Initial testing dataset of blood lead levels"
   ]
  },
  {
   "cell_type": "code",
   "execution_count": 7,
   "id": "ec9a524c",
   "metadata": {},
   "outputs": [],
   "source": [
    "# dataset prepared with this notebook: \n",
    "# https://github.com/Cameron-Grams/ComparisonCollection/blob/main/ebll_exploration.ipynb\n",
    "\n",
    "df_ebll = pd.read_csv('./data/ebll_classifier_2014.csv')"
   ]
  },
  {
   "cell_type": "code",
   "execution_count": 8,
   "id": "b75ed0ee",
   "metadata": {},
   "outputs": [],
   "source": [
    "# standardize the county names\n",
    "\n",
    "df_ebll = df_ebll.iloc[:83, :]\n",
    "df_ebll['county'] = df_ebll['County Name'].apply(lambda x: x.split()[:-1])\n",
    "df_ebll['county'] = df_ebll['county'].apply(lambda x: (' ').join(x).lower())\n",
    "# df_ebll.tail(30)"
   ]
  },
  {
   "cell_type": "code",
   "execution_count": 9,
   "id": "ca7e7615",
   "metadata": {},
   "outputs": [],
   "source": [
    "df_ebll = df_ebll.set_index('county')\n",
    "df_ebll = df_ebll.iloc[:, 2:]\n",
    "starting_df = df_ebll.iloc[:, :-1]\n",
    "starting_df = starting_df.reset_index()\n",
    "target = df_ebll.iloc[:, -1]"
   ]
  },
  {
   "cell_type": "markdown",
   "id": "a878b94a",
   "metadata": {},
   "source": [
    "### Prior knowledge of Blood Lead Levels 2014"
   ]
  },
  {
   "cell_type": "code",
   "execution_count": 10,
   "id": "95a9524b",
   "metadata": {},
   "outputs": [
    {
     "data": {
      "text/plain": [
       "(61, 22)"
      ]
     },
     "execution_count": 10,
     "metadata": {},
     "output_type": "execute_result"
    }
   ],
   "source": [
    "low = sum(target == 0)\n",
    "high = sum(target == 1)\n",
    "low, high"
   ]
  },
  {
   "cell_type": "code",
   "execution_count": 11,
   "id": "8632f6a0",
   "metadata": {},
   "outputs": [
    {
     "data": {
      "text/plain": [
       "[0.7349397590361446, 0.26506024096385544]"
      ]
     },
     "execution_count": 11,
     "metadata": {},
     "output_type": "execute_result"
    }
   ],
   "source": [
    "prior_prob = [(low/83), (high/83)]\n",
    "prior_prob"
   ]
  },
  {
   "cell_type": "markdown",
   "id": "d6f944fa",
   "metadata": {},
   "source": [
    "### Assess single dataset"
   ]
  },
  {
   "cell_type": "code",
   "execution_count": 12,
   "id": "716d5609",
   "metadata": {},
   "outputs": [
    {
     "data": {
      "text/plain": [
       "(83, 2)"
      ]
     },
     "execution_count": 12,
     "metadata": {},
     "output_type": "execute_result"
    }
   ],
   "source": [
    "df_single_set = starting_df.set_index('county')\n",
    "X = df_single_set\n",
    "y = target\n",
    "X.shape"
   ]
  },
  {
   "cell_type": "code",
   "execution_count": 13,
   "id": "9b31fffa",
   "metadata": {},
   "outputs": [
    {
     "name": "stdout",
     "output_type": "stream",
     "text": [
      "Using prior probability: None\n"
     ]
    },
    {
     "data": {
      "text/plain": [
       "(0.7349397590361446, 0.8911764705882353)"
      ]
     },
     "execution_count": 13,
     "metadata": {},
     "output_type": "execute_result"
    }
   ],
   "source": [
    "dummy_single, single_score, graphic_single = classifier_assessment(X, y)\n",
    "dummy_single, single_score"
   ]
  },
  {
   "cell_type": "code",
   "execution_count": 14,
   "id": "a53272fa",
   "metadata": {},
   "outputs": [],
   "source": [
    "# graphic_single()"
   ]
  },
  {
   "cell_type": "markdown",
   "id": "f89437d2",
   "metadata": {},
   "source": [
    "## Add American Community Survey dataset"
   ]
  },
  {
   "cell_type": "code",
   "execution_count": 15,
   "id": "fe87da22",
   "metadata": {},
   "outputs": [],
   "source": [
    "# dataset prepared with this notebook:\n",
    "# https://github.com/Cameron-Grams/ComparisonCollection/blob/main/acs_2014.ipynb\n",
    "\n",
    "df_acs = pd.read_csv('./data/cleaned_2014_acs.csv')"
   ]
  },
  {
   "cell_type": "code",
   "execution_count": 16,
   "id": "438817a1",
   "metadata": {},
   "outputs": [],
   "source": [
    "# df_acs.head()"
   ]
  },
  {
   "cell_type": "code",
   "execution_count": 17,
   "id": "99ae4bda",
   "metadata": {},
   "outputs": [],
   "source": [
    "# format county names\n",
    "county = df_acs['County Name'].apply(lambda x: x.split()[:-1])\n",
    "county = [(' ').join(x).lower() for x in county][:-1]"
   ]
  },
  {
   "cell_type": "code",
   "execution_count": 18,
   "id": "336ed15b",
   "metadata": {},
   "outputs": [],
   "source": [
    "# need to replace the strings with integers\n",
    "# get columns needed for conversion \n",
    "cols = df_acs.columns[1:]\n",
    "df_acs_1 = df_acs.iloc[:, 1:]"
   ]
  },
  {
   "cell_type": "code",
   "execution_count": 19,
   "id": "12d38d76",
   "metadata": {},
   "outputs": [],
   "source": [
    "# df contains a mixed collection of strings and numbers \n",
    "string_values = df_acs_1.values"
   ]
  },
  {
   "cell_type": "code",
   "execution_count": 20,
   "id": "e7800fe2",
   "metadata": {},
   "outputs": [],
   "source": [
    "new_vals = []\n",
    "for arr in string_values:\n",
    "    arr_2 = [x if (type(x) == int or type(x) == float) else int(x.replace(',', '')) for x in arr]\n",
    "    new_vals.append(arr_2)"
   ]
  },
  {
   "cell_type": "code",
   "execution_count": 21,
   "id": "9d2b71b4",
   "metadata": {},
   "outputs": [],
   "source": [
    "# last sample is the summary for Michigan as a state\n",
    "number_array = np.array(new_vals)[:-1]"
   ]
  },
  {
   "cell_type": "code",
   "execution_count": 22,
   "id": "3db52ff5",
   "metadata": {},
   "outputs": [],
   "source": [
    "df_acs_2 = pd.DataFrame(number_array, columns=cols)"
   ]
  },
  {
   "cell_type": "code",
   "execution_count": 23,
   "id": "a2fc375e",
   "metadata": {},
   "outputs": [
    {
     "data": {
      "text/html": [
       "<div>\n",
       "<style scoped>\n",
       "    .dataframe tbody tr th:only-of-type {\n",
       "        vertical-align: middle;\n",
       "    }\n",
       "\n",
       "    .dataframe tbody tr th {\n",
       "        vertical-align: top;\n",
       "    }\n",
       "\n",
       "    .dataframe thead th {\n",
       "        text-align: right;\n",
       "    }\n",
       "</style>\n",
       "<table border=\"1\" class=\"dataframe\">\n",
       "  <thead>\n",
       "    <tr style=\"text-align: right;\">\n",
       "      <th></th>\n",
       "      <th>Population 16 years and over</th>\n",
       "      <th>In labor force</th>\n",
       "      <th>Civilian labor force</th>\n",
       "      <th>Employed</th>\n",
       "      <th>Unemployed</th>\n",
       "      <th>Armed Forces</th>\n",
       "      <th>Not in labor force</th>\n",
       "      <th>Civilian labor force.1</th>\n",
       "      <th>Females 16 years and over</th>\n",
       "      <th>In labor force.1</th>\n",
       "      <th>...</th>\n",
       "      <th>With health insurance coverage.2</th>\n",
       "      <th>With private health insurance.2</th>\n",
       "      <th>With public coverage.2</th>\n",
       "      <th>No health insurance coverage.3</th>\n",
       "      <th>Not in labor force:</th>\n",
       "      <th>With health insurance coverage.3</th>\n",
       "      <th>With private health insurance.3</th>\n",
       "      <th>With public coverage.3</th>\n",
       "      <th>No health insurance coverage.4</th>\n",
       "      <th>county</th>\n",
       "    </tr>\n",
       "  </thead>\n",
       "  <tbody>\n",
       "    <tr>\n",
       "      <th>0</th>\n",
       "      <td>9424.0</td>\n",
       "      <td>3796.0</td>\n",
       "      <td>3796.0</td>\n",
       "      <td>3294.0</td>\n",
       "      <td>502.0</td>\n",
       "      <td>0.0</td>\n",
       "      <td>5628.0</td>\n",
       "      <td>3796.0</td>\n",
       "      <td>4668.0</td>\n",
       "      <td>1830.0</td>\n",
       "      <td>...</td>\n",
       "      <td>290.0</td>\n",
       "      <td>177.0</td>\n",
       "      <td>128.0</td>\n",
       "      <td>188.0</td>\n",
       "      <td>2168.0</td>\n",
       "      <td>1849.0</td>\n",
       "      <td>1168.0</td>\n",
       "      <td>988.0</td>\n",
       "      <td>319.0</td>\n",
       "      <td>alcona</td>\n",
       "    </tr>\n",
       "    <tr>\n",
       "      <th>1</th>\n",
       "      <td>8221.0</td>\n",
       "      <td>3602.0</td>\n",
       "      <td>3602.0</td>\n",
       "      <td>3175.0</td>\n",
       "      <td>427.0</td>\n",
       "      <td>0.0</td>\n",
       "      <td>4619.0</td>\n",
       "      <td>3602.0</td>\n",
       "      <td>3618.0</td>\n",
       "      <td>1720.0</td>\n",
       "      <td>...</td>\n",
       "      <td>226.0</td>\n",
       "      <td>110.0</td>\n",
       "      <td>118.0</td>\n",
       "      <td>168.0</td>\n",
       "      <td>1589.0</td>\n",
       "      <td>1364.0</td>\n",
       "      <td>992.0</td>\n",
       "      <td>548.0</td>\n",
       "      <td>225.0</td>\n",
       "      <td>alger</td>\n",
       "    </tr>\n",
       "    <tr>\n",
       "      <th>2</th>\n",
       "      <td>87238.0</td>\n",
       "      <td>54617.0</td>\n",
       "      <td>54614.0</td>\n",
       "      <td>50406.0</td>\n",
       "      <td>4208.0</td>\n",
       "      <td>3.0</td>\n",
       "      <td>32621.0</td>\n",
       "      <td>54614.0</td>\n",
       "      <td>44131.0</td>\n",
       "      <td>25248.0</td>\n",
       "      <td>...</td>\n",
       "      <td>2105.0</td>\n",
       "      <td>1432.0</td>\n",
       "      <td>761.0</td>\n",
       "      <td>1763.0</td>\n",
       "      <td>15925.0</td>\n",
       "      <td>13143.0</td>\n",
       "      <td>8706.0</td>\n",
       "      <td>5896.0</td>\n",
       "      <td>2782.0</td>\n",
       "      <td>allegan</td>\n",
       "    </tr>\n",
       "    <tr>\n",
       "      <th>3</th>\n",
       "      <td>24077.0</td>\n",
       "      <td>13731.0</td>\n",
       "      <td>13659.0</td>\n",
       "      <td>12227.0</td>\n",
       "      <td>1432.0</td>\n",
       "      <td>72.0</td>\n",
       "      <td>10346.0</td>\n",
       "      <td>13659.0</td>\n",
       "      <td>12369.0</td>\n",
       "      <td>6583.0</td>\n",
       "      <td>...</td>\n",
       "      <td>736.0</td>\n",
       "      <td>351.0</td>\n",
       "      <td>425.0</td>\n",
       "      <td>597.0</td>\n",
       "      <td>4421.0</td>\n",
       "      <td>3890.0</td>\n",
       "      <td>2051.0</td>\n",
       "      <td>2344.0</td>\n",
       "      <td>531.0</td>\n",
       "      <td>alpena</td>\n",
       "    </tr>\n",
       "    <tr>\n",
       "      <th>4</th>\n",
       "      <td>19340.0</td>\n",
       "      <td>10762.0</td>\n",
       "      <td>10759.0</td>\n",
       "      <td>9462.0</td>\n",
       "      <td>1297.0</td>\n",
       "      <td>3.0</td>\n",
       "      <td>8578.0</td>\n",
       "      <td>10759.0</td>\n",
       "      <td>9760.0</td>\n",
       "      <td>5076.0</td>\n",
       "      <td>...</td>\n",
       "      <td>583.0</td>\n",
       "      <td>388.0</td>\n",
       "      <td>208.0</td>\n",
       "      <td>565.0</td>\n",
       "      <td>3190.0</td>\n",
       "      <td>2716.0</td>\n",
       "      <td>1886.0</td>\n",
       "      <td>1103.0</td>\n",
       "      <td>474.0</td>\n",
       "      <td>antrim</td>\n",
       "    </tr>\n",
       "  </tbody>\n",
       "</table>\n",
       "<p>5 rows × 118 columns</p>\n",
       "</div>"
      ],
      "text/plain": [
       "   Population 16 years and over  In labor force  Civilian labor force  \\\n",
       "0                        9424.0          3796.0                3796.0   \n",
       "1                        8221.0          3602.0                3602.0   \n",
       "2                       87238.0         54617.0               54614.0   \n",
       "3                       24077.0         13731.0               13659.0   \n",
       "4                       19340.0         10762.0               10759.0   \n",
       "\n",
       "   Employed  Unemployed  Armed Forces  Not in labor force  \\\n",
       "0    3294.0       502.0           0.0              5628.0   \n",
       "1    3175.0       427.0           0.0              4619.0   \n",
       "2   50406.0      4208.0           3.0             32621.0   \n",
       "3   12227.0      1432.0          72.0             10346.0   \n",
       "4    9462.0      1297.0           3.0              8578.0   \n",
       "\n",
       "   Civilian labor force.1  Females 16 years and over  In labor force.1  ...  \\\n",
       "0                  3796.0                     4668.0            1830.0  ...   \n",
       "1                  3602.0                     3618.0            1720.0  ...   \n",
       "2                 54614.0                    44131.0           25248.0  ...   \n",
       "3                 13659.0                    12369.0            6583.0  ...   \n",
       "4                 10759.0                     9760.0            5076.0  ...   \n",
       "\n",
       "   With health insurance coverage.2  With private health insurance.2  \\\n",
       "0                             290.0                            177.0   \n",
       "1                             226.0                            110.0   \n",
       "2                            2105.0                           1432.0   \n",
       "3                             736.0                            351.0   \n",
       "4                             583.0                            388.0   \n",
       "\n",
       "   With public coverage.2  No health insurance coverage.3  \\\n",
       "0                   128.0                           188.0   \n",
       "1                   118.0                           168.0   \n",
       "2                   761.0                          1763.0   \n",
       "3                   425.0                           597.0   \n",
       "4                   208.0                           565.0   \n",
       "\n",
       "   Not in labor force:  With health insurance coverage.3  \\\n",
       "0               2168.0                            1849.0   \n",
       "1               1589.0                            1364.0   \n",
       "2              15925.0                           13143.0   \n",
       "3               4421.0                            3890.0   \n",
       "4               3190.0                            2716.0   \n",
       "\n",
       "   With private health insurance.3  With public coverage.3  \\\n",
       "0                           1168.0                   988.0   \n",
       "1                            992.0                   548.0   \n",
       "2                           8706.0                  5896.0   \n",
       "3                           2051.0                  2344.0   \n",
       "4                           1886.0                  1103.0   \n",
       "\n",
       "   No health insurance coverage.4   county  \n",
       "0                           319.0   alcona  \n",
       "1                           225.0    alger  \n",
       "2                          2782.0  allegan  \n",
       "3                           531.0   alpena  \n",
       "4                           474.0   antrim  \n",
       "\n",
       "[5 rows x 118 columns]"
      ]
     },
     "execution_count": 23,
     "metadata": {},
     "output_type": "execute_result"
    }
   ],
   "source": [
    "df_acs_2['county'] = county\n",
    "df_acs_2.head()"
   ]
  },
  {
   "cell_type": "code",
   "execution_count": 24,
   "id": "a36ddd37",
   "metadata": {},
   "outputs": [
    {
     "data": {
      "text/plain": [
       "(83, 119)"
      ]
     },
     "execution_count": 24,
     "metadata": {},
     "output_type": "execute_result"
    }
   ],
   "source": [
    "df_two_datasets_ = pd.merge(starting_df, df_acs_2, on='county')\n",
    "df_two_datasets = df_two_datasets_.set_index('county')\n",
    "df_two_datasets.shape"
   ]
  },
  {
   "cell_type": "code",
   "execution_count": 25,
   "id": "ef4066df",
   "metadata": {},
   "outputs": [],
   "source": [
    "X = df_two_datasets\n",
    "y = target"
   ]
  },
  {
   "cell_type": "code",
   "execution_count": 26,
   "id": "4a06148b",
   "metadata": {
    "scrolled": false
   },
   "outputs": [
    {
     "name": "stdout",
     "output_type": "stream",
     "text": [
      "Using prior probability: None\n"
     ]
    },
    {
     "data": {
      "text/plain": [
       "(0.7349397590361446, 0.8911764705882353)"
      ]
     },
     "execution_count": 26,
     "metadata": {},
     "output_type": "execute_result"
    }
   ],
   "source": [
    "dummy_double, score_two_datasets, graphic_two = classifier_assessment(X, y)\n",
    "dummy_double, score_two_datasets"
   ]
  },
  {
   "cell_type": "code",
   "execution_count": 27,
   "id": "6bbf57f7",
   "metadata": {},
   "outputs": [],
   "source": [
    "# graphic_two()"
   ]
  },
  {
   "cell_type": "markdown",
   "id": "59be5e0d",
   "metadata": {},
   "source": [
    "## Add county demographic information"
   ]
  },
  {
   "cell_type": "code",
   "execution_count": 28,
   "id": "b0b83f6a",
   "metadata": {},
   "outputs": [],
   "source": [
    "df_demog = pd.read_csv('./data/county_ages_2014.csv')\n",
    "# df_demog.head(3)"
   ]
  },
  {
   "cell_type": "code",
   "execution_count": 29,
   "id": "824a5a97",
   "metadata": {},
   "outputs": [],
   "source": [
    "df_demog['county'] = df_demog['CTYNAME'].apply(lambda x: x.split()[:-1])\n",
    "df_demog['county'] = df_demog['county'].apply(lambda x: (' ').join(x).lower())"
   ]
  },
  {
   "cell_type": "code",
   "execution_count": 30,
   "id": "1f762266",
   "metadata": {},
   "outputs": [],
   "source": [
    "df_demog = df_demog.iloc[:, 6:]\n",
    "# df_demog.head()"
   ]
  },
  {
   "cell_type": "code",
   "execution_count": 31,
   "id": "db6bb988",
   "metadata": {},
   "outputs": [
    {
     "data": {
      "text/plain": [
       "(83, 210)"
      ]
     },
     "execution_count": 31,
     "metadata": {},
     "output_type": "execute_result"
    }
   ],
   "source": [
    "df_three = pd.merge(df_two_datasets_, df_demog, on='county')\n",
    "df_three.shape"
   ]
  },
  {
   "cell_type": "markdown",
   "id": "ed517ed2",
   "metadata": {},
   "source": [
    "## Full feature classification"
   ]
  },
  {
   "cell_type": "code",
   "execution_count": 32,
   "id": "cc477cd2",
   "metadata": {},
   "outputs": [],
   "source": [
    "df_ = df_three.set_index('county')\n",
    "X = df_\n",
    "y = y"
   ]
  },
  {
   "cell_type": "code",
   "execution_count": 33,
   "id": "baaf93e8",
   "metadata": {
    "scrolled": false
   },
   "outputs": [
    {
     "name": "stdout",
     "output_type": "stream",
     "text": [
      "Using prior probability: None\n"
     ]
    },
    {
     "data": {
      "text/plain": [
       "(0.7349397590361446, 0.8911764705882353)"
      ]
     },
     "execution_count": 33,
     "metadata": {},
     "output_type": "execute_result"
    }
   ],
   "source": [
    "dummy_tripple, three_ds_score, graphic_three = classifier_assessment(X, y)\n",
    "dummy_tripple, three_ds_score"
   ]
  },
  {
   "cell_type": "markdown",
   "id": "431fec13",
   "metadata": {},
   "source": [
    "## Voters"
   ]
  },
  {
   "cell_type": "code",
   "execution_count": 34,
   "id": "10758d1f",
   "metadata": {},
   "outputs": [],
   "source": [
    "df_vote = pd.read_csv('./data/VoterCount.txt', sep=' ', names=['county_', 'voters'])"
   ]
  },
  {
   "cell_type": "code",
   "execution_count": 35,
   "id": "de921a09",
   "metadata": {},
   "outputs": [],
   "source": [
    "with open('./data/VoterCount.txt', 'r') as file:\n",
    "    lines = file.readlines()\n",
    "    "
   ]
  },
  {
   "cell_type": "code",
   "execution_count": 36,
   "id": "b55c258e",
   "metadata": {},
   "outputs": [],
   "source": [
    "counties = []\n",
    "registered_voters = []\n",
    "\n",
    "for line in lines:\n",
    "    line_stats = re.findall('\\S+', line)\n",
    "    counties.append(line_stats[:-1])\n",
    "    registered_voters.append(line_stats[-1])"
   ]
  },
  {
   "cell_type": "code",
   "execution_count": 37,
   "id": "ffeeec8b",
   "metadata": {},
   "outputs": [],
   "source": [
    "# counties = ['St.' + ' ' + x[1] if x[0] == 'St' else x for x in counties]"
   ]
  },
  {
   "cell_type": "code",
   "execution_count": 38,
   "id": "badef5f7",
   "metadata": {},
   "outputs": [],
   "source": [
    "counties = [(' ').join(x).lower() for x in counties]"
   ]
  },
  {
   "cell_type": "code",
   "execution_count": 39,
   "id": "e9f20a76",
   "metadata": {},
   "outputs": [],
   "source": [
    "# counties\n",
    "registered_voters = [int(x) for x in registered_voters]\n",
    "# registered_voters"
   ]
  },
  {
   "cell_type": "code",
   "execution_count": 40,
   "id": "4aafb76f",
   "metadata": {},
   "outputs": [],
   "source": [
    "df_v = pd.DataFrame({'county': counties, 'registered_voters': registered_voters})"
   ]
  },
  {
   "cell_type": "code",
   "execution_count": 41,
   "id": "88e04032",
   "metadata": {},
   "outputs": [],
   "source": [
    "df_v.iloc[76, 0] = 'st. clair'\n",
    "df_v.iloc[77, 0] = 'st. joseph'"
   ]
  },
  {
   "cell_type": "code",
   "execution_count": 42,
   "id": "d8abfc1c",
   "metadata": {},
   "outputs": [],
   "source": [
    "# df_v.tail(20)"
   ]
  },
  {
   "cell_type": "code",
   "execution_count": 43,
   "id": "09b19dc6",
   "metadata": {},
   "outputs": [
    {
     "data": {
      "text/plain": [
       "(83, 211)"
      ]
     },
     "execution_count": 43,
     "metadata": {},
     "output_type": "execute_result"
    }
   ],
   "source": [
    "df = pd.merge(df_three, df_v, on='county')\n",
    "df.shape"
   ]
  },
  {
   "cell_type": "code",
   "execution_count": 44,
   "id": "52d5acbf",
   "metadata": {},
   "outputs": [],
   "source": [
    "df = df.set_index('county')\n",
    "X = df\n",
    "y = y"
   ]
  },
  {
   "cell_type": "code",
   "execution_count": 45,
   "id": "b1e25250",
   "metadata": {},
   "outputs": [
    {
     "name": "stdout",
     "output_type": "stream",
     "text": [
      "Using prior probability: None\n"
     ]
    },
    {
     "data": {
      "text/plain": [
       "(0.7349397590361446, 0.8911764705882353)"
      ]
     },
     "execution_count": 45,
     "metadata": {},
     "output_type": "execute_result"
    }
   ],
   "source": [
    "dummy_four, four_ds_score, graphic_four = classifier_assessment(X, y)\n",
    "dummy_four, four_ds_score"
   ]
  },
  {
   "cell_type": "code",
   "execution_count": 46,
   "id": "92353e07",
   "metadata": {},
   "outputs": [
    {
     "name": "stdout",
     "output_type": "stream",
     "text": [
      "Using prior probability: [0.7349397590361446, 0.26506024096385544]\n"
     ]
    },
    {
     "data": {
      "text/plain": [
       "(0.7349397590361446, 0.8911764705882353)"
      ]
     },
     "execution_count": 46,
     "metadata": {},
     "output_type": "execute_result"
    }
   ],
   "source": [
    "dummy_four_p, four_ds_score_p, graphic_four_p = classifier_assessment(X, y, prior_prob)\n",
    "dummy_four_p, four_ds_score_p"
   ]
  }
 ],
 "metadata": {
  "kernelspec": {
   "display_name": "Python 3",
   "language": "python",
   "name": "python3"
  },
  "language_info": {
   "codemirror_mode": {
    "name": "ipython",
    "version": 3
   },
   "file_extension": ".py",
   "mimetype": "text/x-python",
   "name": "python",
   "nbconvert_exporter": "python",
   "pygments_lexer": "ipython3",
   "version": "3.8.8"
  }
 },
 "nbformat": 4,
 "nbformat_minor": 5
}
