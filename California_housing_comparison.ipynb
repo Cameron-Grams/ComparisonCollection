{
 "cells": [
  {
   "cell_type": "code",
   "execution_count": 1,
   "id": "d391bfea",
   "metadata": {},
   "outputs": [],
   "source": [
    "import pandas as pd\n",
    "import numpy as np\n",
    "import matplotlib.pyplot as plt"
   ]
  },
  {
   "cell_type": "code",
   "execution_count": 2,
   "id": "7eb2fd7b",
   "metadata": {},
   "outputs": [],
   "source": [
    "from sklearn.model_selection import train_test_split\n",
    "from sklearn.linear_model import LinearRegression, Lasso, Ridge\n",
    "from sklearn.metrics import r2_score"
   ]
  },
  {
   "cell_type": "markdown",
   "id": "9a1917a9",
   "metadata": {},
   "source": [
    "# Comparison of Regularization Techniques\n",
    "\n",
    "The purpose of this next exercise is to compare Lasso and Ridge regularization and observe the different results with respect to a given dataset.  Two different datasets will be compared to see the role that their features play when making predictions. The measure that will be compared is the [$R^2$ score](https://scikit-learn.org/stable/modules/model_evaluation.html#r2-score-the-coefficient-of-determination) of the models which expresses how much variance in the independent variable is captured by the model. Tasks 2-7 explain the models that will be used to explore the dataset.  "
   ]
  },
  {
   "cell_type": "markdown",
   "id": "def8f433",
   "metadata": {},
   "source": [
    "# Dataset I: California Housing Dataset\n",
    "\n",
    "The first set of models will predict meidan housing prices from a set of features of houses in the California dataset.  This dataset is included with the scikit learn library."
   ]
  },
  {
   "cell_type": "code",
   "execution_count": 3,
   "id": "4fef59a0",
   "metadata": {},
   "outputs": [],
   "source": [
    "from sklearn.datasets import fetch_california_housing\n",
    "housing = fetch_california_housing()\n",
    "# returns a Bunch object\n",
    "# housing"
   ]
  },
  {
   "cell_type": "markdown",
   "id": "a7fec46b",
   "metadata": {},
   "source": [
    "### Examine the Bunch Object \n",
    "Print the description of the dataset. How many of the features will be relavant for predicting housing prices? "
   ]
  },
  {
   "cell_type": "code",
   "execution_count": 4,
   "id": "4a60593d",
   "metadata": {},
   "outputs": [
    {
     "name": "stdout",
     "output_type": "stream",
     "text": [
      ".. _california_housing_dataset:\n",
      "\n",
      "California Housing dataset\n",
      "--------------------------\n",
      "\n",
      "**Data Set Characteristics:**\n",
      "\n",
      "    :Number of Instances: 20640\n",
      "\n",
      "    :Number of Attributes: 8 numeric, predictive attributes and the target\n",
      "\n",
      "    :Attribute Information:\n",
      "        - MedInc        median income in block\n",
      "        - HouseAge      median house age in block\n",
      "        - AveRooms      average number of rooms\n",
      "        - AveBedrms     average number of bedrooms\n",
      "        - Population    block population\n",
      "        - AveOccup      average house occupancy\n",
      "        - Latitude      house block latitude\n",
      "        - Longitude     house block longitude\n",
      "\n",
      "    :Missing Attribute Values: None\n",
      "\n",
      "This dataset was obtained from the StatLib repository.\n",
      "http://lib.stat.cmu.edu/datasets/\n",
      "\n",
      "The target variable is the median house value for California districts.\n",
      "\n",
      "This dataset was derived from the 1990 U.S. census, using one row per census\n",
      "block group. A block group is the smallest geographical unit for which the U.S.\n",
      "Census Bureau publishes sample data (a block group typically has a population\n",
      "of 600 to 3,000 people).\n",
      "\n",
      "It can be downloaded/loaded using the\n",
      ":func:`sklearn.datasets.fetch_california_housing` function.\n",
      "\n",
      ".. topic:: References\n",
      "\n",
      "    - Pace, R. Kelley and Ronald Barry, Sparse Spatial Autoregressions,\n",
      "      Statistics and Probability Letters, 33 (1997) 291-297\n",
      "\n"
     ]
    }
   ],
   "source": [
    "lines = (housing.DESCR).split('\\n')\n",
    "for line in lines:\n",
    "    print(line)"
   ]
  },
  {
   "cell_type": "markdown",
   "id": "0d636638",
   "metadata": {},
   "source": [
    "### Task 1:\n",
    "Use the housing data as the features to train the models (X), use the median house values as the target (y). Divide these collections into the appropriate training and test sets of data. For grading be sure to set the random state to 0.  "
   ]
  },
  {
   "cell_type": "code",
   "execution_count": 5,
   "id": "ed23b509",
   "metadata": {},
   "outputs": [
    {
     "data": {
      "text/plain": [
       "20640"
      ]
     },
     "execution_count": 5,
     "metadata": {},
     "output_type": "execute_result"
    }
   ],
   "source": [
    "X = housing.data\n",
    "y = housing.target\n",
    "len(y)"
   ]
  },
  {
   "cell_type": "code",
   "execution_count": 6,
   "id": "dc7381e1",
   "metadata": {},
   "outputs": [],
   "source": [
    "X_train, X_test, y_train, y_test = train_test_split(X, y, random_state=0)"
   ]
  },
  {
   "cell_type": "markdown",
   "id": "86b5a9fe",
   "metadata": {},
   "source": [
    "### Task 2: Linear Regression\n",
    "Remember that a Linear Regression model assumes a linear relationship in the data : \n",
    "\n",
    "$$ \\begin{aligned}\\widehat{y} = \\widehat{w_0}{x_0} + \\widehat{w_1}{x_1} + \\ldots\\cdots + \\widehat{w_n}{x_n} + b\\end{aligned}$$\n",
    "\n",
    "Where the predicted values of y are derived by minimizing the residual sum of squares (RSS, the sum of squared differences) of the predicted and actual target values:  \n",
    "\n",
    "$$ \\begin{aligned}RSS(w,b) = \\displaystyle\\sum_{i=1}^n(y_i - (wx_i + b))^2 \\end{aligned}$$\n",
    "\n",
    "Using a Linear Regression model produce an $R^2$ score for the prediction on the **y_test** values.  Store this in a variable called **r2_linear_regression**."
   ]
  },
  {
   "cell_type": "code",
   "execution_count": 7,
   "id": "386a459b",
   "metadata": {},
   "outputs": [
    {
     "data": {
      "text/plain": [
       "0.5911695436410476"
      ]
     },
     "execution_count": 7,
     "metadata": {},
     "output_type": "execute_result"
    }
   ],
   "source": [
    "reg = LinearRegression()\n",
    "reg.fit(X_train, y_train)\n",
    "pred_linReg = reg.predict(X_test)\n",
    "r2_linear_regression = r2_score(y_test, pred_linReg)\n",
    "r2_linear_regression"
   ]
  },
  {
   "cell_type": "code",
   "execution_count": 8,
   "id": "a10786fe",
   "metadata": {},
   "outputs": [],
   "source": [
    "# for use building the dataframe\n",
    "linReg = {'r2_linReg': r2_linear_regression}"
   ]
  },
  {
   "cell_type": "markdown",
   "id": "8bffc110",
   "metadata": {},
   "source": [
    "### Task 3: Lasso Regression\n",
    "\n",
    "Lasso regularization reduces the potential for overfitting a model to the data by introducing an error term based on the norm of the vector associated with the model according to the equation: \n",
    "\n",
    "$$ \\begin{aligned}RSS_{LASSO}(w,b) = \\displaystyle\\sum_{i=1}^n(y_i - (wx_i + b))^2 + \\alpha \\sum_1^p |w_i|\\end{aligned}$$\n",
    "\n",
    "Fortunately this relationship is included in the scikit learn library.  \n",
    "\n",
    "The number of features captured by the model (from 1 to p) is assumed to be greater than 0, some features are removed from the model when building the predicted values.  The degree that the model is adjusted is based on the scalar $\\alpha$ value applied to the norm. The default value for the function is 1 for a full normal factor to be applied to the error term. \n",
    "\n",
    "Train a model using Lasso Regression and store the $R^2$ score of its predictions on the **y_test** values in a variable called **r2_lasso**."
   ]
  },
  {
   "cell_type": "code",
   "execution_count": 9,
   "id": "ba4903d8",
   "metadata": {},
   "outputs": [
    {
     "data": {
      "text/plain": [
       "0.28490402733386166"
      ]
     },
     "execution_count": 9,
     "metadata": {},
     "output_type": "execute_result"
    }
   ],
   "source": [
    "reg_lso = Lasso()\n",
    "reg_lso.fit(X_train, y_train)\n",
    "pred_lso = reg_lso.predict(X_test)\n",
    "r2_lasso = r2_score(y_test, pred_lso)\n",
    "r2_lasso"
   ]
  },
  {
   "cell_type": "code",
   "execution_count": 10,
   "id": "c2182fc9",
   "metadata": {},
   "outputs": [],
   "source": [
    "# for building the dataframe\n",
    "lasso = {'r2_lasso': r2_lasso}"
   ]
  },
  {
   "cell_type": "markdown",
   "id": "1e4d04cb",
   "metadata": {},
   "source": [
    "### Task 4: Lasso Regression, reduced alpha\n",
    "Next train a second Lasso Regression model with an $\\alpha$ of 0.5 and store it's $R^2$ value in a variable called **r2_lasso_half**."
   ]
  },
  {
   "cell_type": "code",
   "execution_count": 11,
   "id": "58833e64",
   "metadata": {},
   "outputs": [
    {
     "data": {
      "text/plain": [
       "0.44351557737688474"
      ]
     },
     "execution_count": 11,
     "metadata": {},
     "output_type": "execute_result"
    }
   ],
   "source": [
    "reg_lso_2 = Lasso(alpha=0.5)\n",
    "reg_lso_2.fit(X_train, y_train)\n",
    "pred_lso_2 = reg_lso_2.predict(X_test)\n",
    "r2_lasso_half = r2_score(y_test, pred_lso_2)\n",
    "r2_lasso_half"
   ]
  },
  {
   "cell_type": "code",
   "execution_count": 12,
   "id": "bf841f9c",
   "metadata": {},
   "outputs": [],
   "source": [
    "lasso_2 = {'r2_lasso_half': r2_lasso_half}"
   ]
  },
  {
   "cell_type": "markdown",
   "id": "e5e85fd7",
   "metadata": {},
   "source": [
    "## Task 5: Ridge Regression"
   ]
  },
  {
   "cell_type": "markdown",
   "id": "cf68ac04",
   "metadata": {},
   "source": [
    "The next two tasks involve creating a prediction model for the California housing data using Ridge Regression.  Ridge Regression differs from Lasso Regression due to the nature of the error term added to the prediction:\n",
    "\n",
    "$$ \\begin{aligned}RSS_{LASSO}(w,b) = \\displaystyle\\sum_{i=1}^n(y_i - (wx_i + b))^2 + \\alpha \\sum_{j=1}^p w_j^2\\end{aligned}$$\n",
    "\n",
    "Again Ridge Regression models are part of the scikit learn library. As with the Lasso Regression model the degree that the error term influences the predictions is controled by the scalar value $\\alpha$\n",
    "\n",
    "Train a model using Ridge Regression and store the $R^2$ score of its predictions on the **y_test** values in a variable called **r2_ridge**."
   ]
  },
  {
   "cell_type": "code",
   "execution_count": 13,
   "id": "f02c38d3",
   "metadata": {},
   "outputs": [
    {
     "data": {
      "text/plain": [
       "0.5911615930747933"
      ]
     },
     "execution_count": 13,
     "metadata": {},
     "output_type": "execute_result"
    }
   ],
   "source": [
    "reg_ridge = Ridge()\n",
    "reg_ridge.fit(X_train, y_train)\n",
    "pred_ridge = reg_ridge.predict(X_test)\n",
    "r2_ridge = r2_score(y_test, pred_ridge)\n",
    "r2_ridge"
   ]
  },
  {
   "cell_type": "code",
   "execution_count": 14,
   "id": "1885b634",
   "metadata": {},
   "outputs": [],
   "source": [
    "ridge = {'r2_ridge': r2_ridge}"
   ]
  },
  {
   "cell_type": "markdown",
   "id": "4ca67875",
   "metadata": {},
   "source": [
    "## Task 6: Ridge Regression, reduced alpha\n",
    "\n",
    "Next train a second ridge regression model with an $\\alpha$ value of 0.5 and store it's $R^2$ value in a variable called **r2_ridge_half**."
   ]
  },
  {
   "cell_type": "code",
   "execution_count": 15,
   "id": "b35bb026",
   "metadata": {},
   "outputs": [
    {
     "data": {
      "text/plain": [
       "0.5911655745845577"
      ]
     },
     "execution_count": 15,
     "metadata": {},
     "output_type": "execute_result"
    }
   ],
   "source": [
    "reg_ridge_half = Ridge(alpha=0.5)\n",
    "reg_ridge_half.fit(X_train, y_train)\n",
    "pred_ridge_half = reg_ridge_half.predict(X_test)\n",
    "r2_ridge_half = r2_score(y_test, pred_ridge_half)\n",
    "r2_ridge_half"
   ]
  },
  {
   "cell_type": "code",
   "execution_count": 16,
   "id": "08d37816",
   "metadata": {},
   "outputs": [],
   "source": [
    "ridge_2 = {'r2_ridge_half': r2_ridge_half}"
   ]
  },
  {
   "cell_type": "markdown",
   "id": "e78dfb35",
   "metadata": {},
   "source": [
    "## Task 7: DataFrame to Compare\n",
    "\n",
    "Next assemble the collection of $R^2$ values into a DataFrame where the indices are the names of the $R^2$ scores and the single column is labled, **\"R_2 California Housing\"**.  Sort the values in ascending order. "
   ]
  },
  {
   "cell_type": "code",
   "execution_count": 17,
   "id": "56e90808",
   "metadata": {},
   "outputs": [],
   "source": [
    "obj = [linReg, lasso, lasso_2, ridge, ridge_2]\n",
    "o2 = {}\n",
    "names = []\n",
    "for d in obj:\n",
    "    for k,v in d.items():\n",
    "        names.append(k)\n",
    "        o2[k] = v"
   ]
  },
  {
   "cell_type": "code",
   "execution_count": 18,
   "id": "a6bb8e06",
   "metadata": {},
   "outputs": [],
   "source": [
    "d2 = pd.DataFrame(o2, index=['R2 California Housing'])"
   ]
  },
  {
   "cell_type": "code",
   "execution_count": 19,
   "id": "15521112",
   "metadata": {},
   "outputs": [
    {
     "data": {
      "text/html": [
       "<div>\n",
       "<style scoped>\n",
       "    .dataframe tbody tr th:only-of-type {\n",
       "        vertical-align: middle;\n",
       "    }\n",
       "\n",
       "    .dataframe tbody tr th {\n",
       "        vertical-align: top;\n",
       "    }\n",
       "\n",
       "    .dataframe thead th {\n",
       "        text-align: right;\n",
       "    }\n",
       "</style>\n",
       "<table border=\"1\" class=\"dataframe\">\n",
       "  <thead>\n",
       "    <tr style=\"text-align: right;\">\n",
       "      <th></th>\n",
       "      <th>R2 California Housing</th>\n",
       "    </tr>\n",
       "  </thead>\n",
       "  <tbody>\n",
       "    <tr>\n",
       "      <th>r2_lasso</th>\n",
       "      <td>0.284904</td>\n",
       "    </tr>\n",
       "    <tr>\n",
       "      <th>r2_lasso_half</th>\n",
       "      <td>0.443516</td>\n",
       "    </tr>\n",
       "    <tr>\n",
       "      <th>r2_ridge</th>\n",
       "      <td>0.591162</td>\n",
       "    </tr>\n",
       "    <tr>\n",
       "      <th>r2_ridge_half</th>\n",
       "      <td>0.591166</td>\n",
       "    </tr>\n",
       "    <tr>\n",
       "      <th>r2_linReg</th>\n",
       "      <td>0.591170</td>\n",
       "    </tr>\n",
       "  </tbody>\n",
       "</table>\n",
       "</div>"
      ],
      "text/plain": [
       "               R2 California Housing\n",
       "r2_lasso                    0.284904\n",
       "r2_lasso_half               0.443516\n",
       "r2_ridge                    0.591162\n",
       "r2_ridge_half               0.591166\n",
       "r2_linReg                   0.591170"
      ]
     },
     "execution_count": 19,
     "metadata": {},
     "output_type": "execute_result"
    }
   ],
   "source": [
    "d2 = d2.T\n",
    "d3 = d2.sort_values(by='R2 California Housing')\n",
    "d3"
   ]
  },
  {
   "cell_type": "markdown",
   "id": "3623ce9f",
   "metadata": {},
   "source": [
    "**Reflection:** What can you conclude from the order of the values?"
   ]
  },
  {
   "cell_type": "markdown",
   "id": "5ba31ff1",
   "metadata": {},
   "source": [
    "# Augmented California Housing Dataset"
   ]
  },
  {
   "cell_type": "markdown",
   "id": "f89608a6",
   "metadata": {},
   "source": [
    "Next we'll perform the same analysis on a different dataset and observe the difference in performance of the various regressors.  Using the ... dataset construct a DataFrame with a single column of the $R^2$ values and the model regressors as indices. "
   ]
  },
  {
   "cell_type": "code",
   "execution_count": 20,
   "id": "2ee9e24c",
   "metadata": {},
   "outputs": [],
   "source": [
    "housing_2 = fetch_california_housing()"
   ]
  },
  {
   "cell_type": "code",
   "execution_count": 21,
   "id": "ffaa4762",
   "metadata": {},
   "outputs": [],
   "source": [
    "X = housing.data\n",
    "y = housing.target\n",
    "df = pd.DataFrame(X, columns=housing.feature_names)"
   ]
  },
  {
   "cell_type": "code",
   "execution_count": 22,
   "id": "ba1cdb3c",
   "metadata": {},
   "outputs": [],
   "source": [
    "df_ = df.iloc[:, [4]]\n",
    "most_important_array = df_.values"
   ]
  },
  {
   "cell_type": "code",
   "execution_count": 23,
   "id": "c472c3e7",
   "metadata": {},
   "outputs": [],
   "source": [
    "def augment_X_random(X):\n",
    "    augmented_array = []\n",
    "\n",
    "    for sample in X:\n",
    "        sample = list(sample)\n",
    "        augmentation = np.random.randint(1000, size=100)\n",
    "        sample.extend(augmentation)\n",
    "        augmented_array.append(sample)\n",
    "\n",
    "    return np.array(augmented_array)"
   ]
  },
  {
   "cell_type": "code",
   "execution_count": 24,
   "id": "2a0292df",
   "metadata": {},
   "outputs": [],
   "source": [
    "X_aug = augment_X_random(most_important_array)"
   ]
  },
  {
   "cell_type": "code",
   "execution_count": 25,
   "id": "d01e2603",
   "metadata": {},
   "outputs": [],
   "source": [
    "X_train_a, X_test_a, y_train_a, y_test_a = train_test_split(X_aug, y, random_state=0)"
   ]
  },
  {
   "cell_type": "markdown",
   "id": "096884d3",
   "metadata": {},
   "source": [
    "## Task 2a: Linear Regression"
   ]
  },
  {
   "cell_type": "code",
   "execution_count": 26,
   "id": "2176d52a",
   "metadata": {},
   "outputs": [
    {
     "data": {
      "text/plain": [
       "-0.00663445991388123"
      ]
     },
     "execution_count": 26,
     "metadata": {},
     "output_type": "execute_result"
    }
   ],
   "source": [
    "reg_a = LinearRegression()\n",
    "reg_a.fit(X_train_a, y_train_a)\n",
    "pred_linReg_a = reg_a.predict(X_test_a)\n",
    "r2_linear_regression_a = r2_score(y_test_a, pred_linReg_a)\n",
    "r2_linear_regression_a"
   ]
  },
  {
   "cell_type": "code",
   "execution_count": 27,
   "id": "cf83beff",
   "metadata": {},
   "outputs": [],
   "source": [
    "linReg_a = {'r2_linReg_a': r2_linear_regression_a}"
   ]
  },
  {
   "cell_type": "markdown",
   "id": "544f9dad",
   "metadata": {},
   "source": [
    "## Task 3a: Lasso Regression"
   ]
  },
  {
   "cell_type": "code",
   "execution_count": 28,
   "id": "0e638400",
   "metadata": {},
   "outputs": [
    {
     "data": {
      "text/plain": [
       "-0.0024213714868543956"
      ]
     },
     "execution_count": 28,
     "metadata": {},
     "output_type": "execute_result"
    }
   ],
   "source": [
    "reg_lso_a = Lasso()\n",
    "reg_lso_a.fit(X_train_a, y_train_a)\n",
    "pred_lso_a = reg_lso_a.predict(X_test_a)\n",
    "r2_lasso_a = r2_score(y_test_a, pred_lso_a)\n",
    "r2_lasso_a"
   ]
  },
  {
   "cell_type": "code",
   "execution_count": 29,
   "id": "47758fc1",
   "metadata": {},
   "outputs": [],
   "source": [
    "lasso_a = {'r2_lasso_a': r2_lasso_a}"
   ]
  },
  {
   "cell_type": "markdown",
   "id": "a61d1fba",
   "metadata": {},
   "source": [
    "### Task 4: Lasso Regression, reduced alpha"
   ]
  },
  {
   "cell_type": "code",
   "execution_count": 30,
   "id": "3804af25",
   "metadata": {},
   "outputs": [
    {
     "data": {
      "text/plain": [
       "-0.004166446344924912"
      ]
     },
     "execution_count": 30,
     "metadata": {},
     "output_type": "execute_result"
    }
   ],
   "source": [
    "reg_lso_2_a = Lasso(alpha=0.5)\n",
    "reg_lso_2_a.fit(X_train_a, y_train_a)\n",
    "pred_lso_2_a = reg_lso_2_a.predict(X_test_a)\n",
    "r2_lasso_half_a = r2_score(y_test_a, pred_lso_2_a)\n",
    "r2_lasso_half_a"
   ]
  },
  {
   "cell_type": "code",
   "execution_count": 31,
   "id": "a274c7dd",
   "metadata": {},
   "outputs": [],
   "source": [
    "lasso_2_a = {'r2_lasso_half_a': r2_lasso_half_a}"
   ]
  },
  {
   "cell_type": "markdown",
   "id": "290b0fb5",
   "metadata": {},
   "source": [
    "## Task 5: Ridge Regression"
   ]
  },
  {
   "cell_type": "code",
   "execution_count": 32,
   "id": "795c6ec0",
   "metadata": {},
   "outputs": [
    {
     "data": {
      "text/plain": [
       "-0.0066344599024348305"
      ]
     },
     "execution_count": 32,
     "metadata": {},
     "output_type": "execute_result"
    }
   ],
   "source": [
    "reg_ridge_a = Ridge()\n",
    "reg_ridge_a.fit(X_train_a, y_train_a)\n",
    "pred_ridge_a = reg_ridge_a.predict(X_test_a)\n",
    "r2_ridge_a = r2_score(y_test_a, pred_ridge_a)\n",
    "r2_ridge_a"
   ]
  },
  {
   "cell_type": "code",
   "execution_count": 33,
   "id": "2b2e2bea",
   "metadata": {},
   "outputs": [],
   "source": [
    "ridge_a = {'r2_ridge_a': r2_ridge_a}"
   ]
  },
  {
   "cell_type": "markdown",
   "id": "1eef7afe",
   "metadata": {},
   "source": [
    "## Task 6: Ridge Regression, reduced alpha"
   ]
  },
  {
   "cell_type": "code",
   "execution_count": 34,
   "id": "0077f0d0",
   "metadata": {},
   "outputs": [
    {
     "data": {
      "text/plain": [
       "-0.006634459908157808"
      ]
     },
     "execution_count": 34,
     "metadata": {},
     "output_type": "execute_result"
    }
   ],
   "source": [
    "reg_ridge_half_a = Ridge(alpha=0.5)\n",
    "reg_ridge_half_a.fit(X_train_a, y_train_a)\n",
    "pred_ridge_half_a = reg_ridge_half_a.predict(X_test_a)\n",
    "r2_ridge_half_a = r2_score(y_test_a, pred_ridge_half_a)\n",
    "r2_ridge_half_a"
   ]
  },
  {
   "cell_type": "code",
   "execution_count": 35,
   "id": "3570e7c1",
   "metadata": {},
   "outputs": [],
   "source": [
    "ridge_2_a = {'r2_ridge_half_a': r2_ridge_half_a}"
   ]
  },
  {
   "cell_type": "markdown",
   "id": "47e4c432",
   "metadata": {},
   "source": [
    "## Task 7: DataFrame to Compare"
   ]
  },
  {
   "cell_type": "code",
   "execution_count": 36,
   "id": "eee3d8ec",
   "metadata": {},
   "outputs": [],
   "source": [
    "obj_a = [linReg_a, lasso_a, lasso_2_a, ridge_a, ridge_2_a]\n",
    "o2_a = {}\n",
    "names_a = []\n",
    "for d in obj_a:\n",
    "    for k,v in d.items():\n",
    "        names_a.append(k)\n",
    "        o2_a[k] = v"
   ]
  },
  {
   "cell_type": "code",
   "execution_count": 37,
   "id": "9edaf7d6",
   "metadata": {},
   "outputs": [],
   "source": [
    "d2_a = pd.DataFrame(o2_a, index=['R2 2D Altered Random California Housing'])"
   ]
  },
  {
   "cell_type": "code",
   "execution_count": 38,
   "id": "941d9730",
   "metadata": {},
   "outputs": [
    {
     "data": {
      "text/html": [
       "<div>\n",
       "<style scoped>\n",
       "    .dataframe tbody tr th:only-of-type {\n",
       "        vertical-align: middle;\n",
       "    }\n",
       "\n",
       "    .dataframe tbody tr th {\n",
       "        vertical-align: top;\n",
       "    }\n",
       "\n",
       "    .dataframe thead th {\n",
       "        text-align: right;\n",
       "    }\n",
       "</style>\n",
       "<table border=\"1\" class=\"dataframe\">\n",
       "  <thead>\n",
       "    <tr style=\"text-align: right;\">\n",
       "      <th></th>\n",
       "      <th>R2 2D Altered Random California Housing</th>\n",
       "    </tr>\n",
       "  </thead>\n",
       "  <tbody>\n",
       "    <tr>\n",
       "      <th>r2_linReg_a</th>\n",
       "      <td>-0.006634</td>\n",
       "    </tr>\n",
       "    <tr>\n",
       "      <th>r2_ridge_half_a</th>\n",
       "      <td>-0.006634</td>\n",
       "    </tr>\n",
       "    <tr>\n",
       "      <th>r2_ridge_a</th>\n",
       "      <td>-0.006634</td>\n",
       "    </tr>\n",
       "    <tr>\n",
       "      <th>r2_lasso_half_a</th>\n",
       "      <td>-0.004166</td>\n",
       "    </tr>\n",
       "    <tr>\n",
       "      <th>r2_lasso_a</th>\n",
       "      <td>-0.002421</td>\n",
       "    </tr>\n",
       "  </tbody>\n",
       "</table>\n",
       "</div>"
      ],
      "text/plain": [
       "                 R2 2D Altered Random California Housing\n",
       "r2_linReg_a                                    -0.006634\n",
       "r2_ridge_half_a                                -0.006634\n",
       "r2_ridge_a                                     -0.006634\n",
       "r2_lasso_half_a                                -0.004166\n",
       "r2_lasso_a                                     -0.002421"
      ]
     },
     "execution_count": 38,
     "metadata": {},
     "output_type": "execute_result"
    }
   ],
   "source": [
    "d2_a = d2_a.T\n",
    "d3_a = d2_a.sort_values(by='R2 2D Altered Random California Housing')\n",
    "d3_a"
   ]
  }
 ],
 "metadata": {
  "kernelspec": {
   "display_name": "Python 3",
   "language": "python",
   "name": "python3"
  },
  "language_info": {
   "codemirror_mode": {
    "name": "ipython",
    "version": 3
   },
   "file_extension": ".py",
   "mimetype": "text/x-python",
   "name": "python",
   "nbconvert_exporter": "python",
   "pygments_lexer": "ipython3",
   "version": "3.8.8"
  }
 },
 "nbformat": 4,
 "nbformat_minor": 5
}
