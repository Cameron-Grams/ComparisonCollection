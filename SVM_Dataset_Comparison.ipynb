{
 "cells": [
  {
   "cell_type": "markdown",
   "id": "475c9991",
   "metadata": {},
   "source": [
    "# Template for SVM Classifier Comparison"
   ]
  },
  {
   "cell_type": "code",
   "execution_count": 1,
   "id": "d71cc55b",
   "metadata": {},
   "outputs": [],
   "source": [
    "import os\n",
    "import re\n",
    "import pandas as pd\n",
    "import numpy as np\n",
    "import matplotlib.pyplot as plt"
   ]
  },
  {
   "cell_type": "code",
   "execution_count": 2,
   "id": "372d7bed",
   "metadata": {},
   "outputs": [],
   "source": [
    "from sklearn.model_selection import train_test_split\n",
    "\n",
    "from sklearn.svm import SVC\n",
    "from sklearn.pipeline import make_pipeline\n",
    "from sklearn.preprocessing import StandardScaler\n",
    "\n",
    "\n",
    "from sklearn.dummy import DummyClassifier\n",
    "from sklearn.metrics import precision_recall_curve, roc_curve, roc_auc_score\n",
    "\n",
    "from sklearn.model_selection import cross_validate, KFold"
   ]
  },
  {
   "cell_type": "code",
   "execution_count": 3,
   "id": "5d4db69b",
   "metadata": {},
   "outputs": [],
   "source": [
    "np.random.seed(0)"
   ]
  },
  {
   "cell_type": "markdown",
   "id": "2e7fdb7a",
   "metadata": {},
   "source": [
    "## Assessment of the SVC"
   ]
  },
  {
   "cell_type": "code",
   "execution_count": 4,
   "id": "b179d17c",
   "metadata": {},
   "outputs": [],
   "source": [
    "def classifier_assessment(X, y):\n",
    "    \"\"\"\n",
    "    SVC comparison for the different datasets\n",
    "\n",
    "    args: X dataset of features\n",
    "          y target set of values for classification\n",
    "\n",
    "    returns: \n",
    "        - a dummy classifier score using \"most frequent\" value assignment\n",
    "        - the mean of the SVC prediction scores taken from a \n",
    "          5 fold cross validation on the dataset\n",
    "    \"\"\"\n",
    "    \n",
    "    clf_svc = make_pipeline(StandardScaler(), SVC(gamma='auto', probability=True))\n",
    "        \n",
    "    def performance_graphics(X=X, y=y, clf=clf_svc):\n",
    "        \n",
    "        X_train, X_test, y_train, y_test = train_test_split(X, y, random_state=0)\n",
    "        clf.fit(X_train, y_train)\n",
    "     \n",
    "        proba_ = clf.predict_proba(X_test)[:, 1]\n",
    "\n",
    "        precision, recall, thresholds = precision_recall_curve(y_test, proba_)\n",
    "        fp, tp, thresholds_roc = roc_curve(y_test, proba_)\n",
    "        \n",
    "        auc_score = np.round(roc_auc_score(y_test, proba_), 4)\n",
    "\n",
    "        close_default = np.argmin(np.abs(thresholds - 0.5))\n",
    "        close_zero = np.argmin(np.abs(thresholds_roc))\n",
    "\n",
    "        fig, (ax1, ax2) = plt.subplots(1,2, figsize=(15, 4))\n",
    "\n",
    "        ax1.plot(precision, recall, label=\"Precision Recall Curve\")\n",
    "        ax1.plot(precision[close_default], \n",
    "                 recall[close_default], 'o', \n",
    "                 c='r', markersize=10, \n",
    "                 label='threshold 0.5', \n",
    "                 fillstyle=\"none\", mew=2)\n",
    "        ax1.set_title(\"RF performance\")\n",
    "        ax1.set_xlabel(\"Precision\")\n",
    "        ax1.set_ylabel(\"Recall\")\n",
    "        ax1.legend(loc='best')\n",
    "\n",
    "        ax2.plot(fp, tp, label=\"ROC curve\")\n",
    "        ax2.plot(fp[close_zero], \n",
    "                 tp[close_zero], 'o', \n",
    "                 c='r', markersize=10, \n",
    "                 label='threshold 0', \n",
    "                 fillstyle=\"none\", mew=2)\n",
    "        ax2.set_title(f\"ROC performance: AUC Score {auc_score}\")\n",
    "        ax2.set_xlabel(\"False Positive Rate\")\n",
    "        ax2.set_ylabel(\"True Positive (Recall)\")\n",
    "        ax2.legend(loc='best')\n",
    "\n",
    "        plt.show();\n",
    "\n",
    "    kfold = KFold(n_splits=5)\n",
    "    cross_val = cross_validate(clf_svc, X, y, cv=kfold, return_estimator=True)\n",
    "    mean_score = cross_val['test_score'].mean()\n",
    "        \n",
    "    dummy_clf = DummyClassifier(strategy=\"most_frequent\")\n",
    "    dummy_clf.fit(X,y)\n",
    "    d_score = dummy_clf.score(X,y)\n",
    "    \n",
    "    graphic = performance_graphics\n",
    "\n",
    "    return d_score, mean_score, graphic"
   ]
  },
  {
   "cell_type": "code",
   "execution_count": null,
   "id": "9ec5f1a4",
   "metadata": {},
   "outputs": [],
   "source": []
  },
  {
   "cell_type": "markdown",
   "id": "a1f9417e",
   "metadata": {},
   "source": [
    "# Compare Simpson Dataset\n",
    "\n",
    "Dataset preconfigured"
   ]
  },
  {
   "cell_type": "code",
   "execution_count": 5,
   "id": "e677ee1c",
   "metadata": {},
   "outputs": [],
   "source": [
    "y = pd.read_csv('./data/target_lisa.csv')\n",
    "y = y['target']"
   ]
  },
  {
   "cell_type": "code",
   "execution_count": 6,
   "id": "34328f3b",
   "metadata": {},
   "outputs": [],
   "source": [
    "df = pd.read_csv('./data/episode_summary_lisa.csv')"
   ]
  },
  {
   "cell_type": "code",
   "execution_count": 7,
   "id": "f99cfaf7",
   "metadata": {},
   "outputs": [],
   "source": [
    "dummy, mean_score, graphic = classifier_assessment(df, y)"
   ]
  },
  {
   "cell_type": "code",
   "execution_count": 8,
   "id": "8111f783",
   "metadata": {},
   "outputs": [
    {
     "name": "stdout",
     "output_type": "stream",
     "text": [
      "The mean from a 5 fold comparison: 0.9258652613587808\n",
      "Compared to the dummy score: 0.596964586846543\n"
     ]
    }
   ],
   "source": [
    "print(f\"The mean from a 5 fold comparison: {mean_score}\")\n",
    "print(f\"Compared to the dummy score: {dummy}\")   "
   ]
  },
  {
   "cell_type": "code",
   "execution_count": 9,
   "id": "98f86cf0",
   "metadata": {},
   "outputs": [
    {
     "data": {
      "image/png": "[encoded data removed]",
      "text/plain": [
       "<Figure size 1080x288 with 2 Axes>"
      ]
     },
     "metadata": {
      "needs_background": "light"
     },
     "output_type": "display_data"
    }
   ],
   "source": [
    "graphic()"
   ]
  },
  {
   "cell_type": "code",
   "execution_count": null,
   "id": "26ed55c8",
   "metadata": {},
   "outputs": [],
   "source": []
  }
 ],
 "metadata": {
  "kernelspec": {
   "display_name": "Python 3",
   "language": "python",
   "name": "python3"
  },
  "language_info": {
   "codemirror_mode": {
    "name": "ipython",
    "version": 3
   },
   "file_extension": ".py",
   "mimetype": "text/x-python",
   "name": "python",
   "nbconvert_exporter": "python",
   "pygments_lexer": "ipython3",
   "version": "3.8.8"
  }
 },
 "nbformat": 4,
 "nbformat_minor": 5
}
