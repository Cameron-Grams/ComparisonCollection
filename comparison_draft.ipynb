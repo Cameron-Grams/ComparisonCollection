{
 "cells": [
  {
   "cell_type": "code",
   "execution_count": 1,
   "id": "d391bfea",
   "metadata": {},
   "outputs": [],
   "source": [
    "import pandas as pd\n",
    "import numpy as np\n",
    "import matplotlib.pyplot as plt"
   ]
  },
  {
   "cell_type": "code",
   "execution_count": 2,
   "id": "7eb2fd7b",
   "metadata": {},
   "outputs": [],
   "source": [
    "from sklearn.model_selection import train_test_split\n",
    "from sklearn.linear_model import LinearRegression, Lasso, Ridge\n",
    "from sklearn.metrics import r2_score"
   ]
  },
  {
   "cell_type": "markdown",
   "id": "9a1917a9",
   "metadata": {},
   "source": [
    "# Comparison of Regularization Techniques\n",
    "\n",
    "The purpose of this next exercise is to compare Lasso and Ridge regularization and observe the different results.  Two different datasets will be compared to see the role that the features of a given dataset play when making predictions. The measure that will be compared is the [$R^2$ score](https://scikit-learn.org/stable/modules/model_evaluation.html#r2-score-the-coefficient-of-determination) of the models which expresses how much variance in the independent variable is captured by the model.  The final goal is to create a DataFrame that has the $R^2$ values for each dataset as columns and the different models as the indices. "
   ]
  },
  {
   "cell_type": "markdown",
   "id": "def8f433",
   "metadata": {},
   "source": [
    "# California Housing Dataset\n",
    "\n",
    "The first set of models will predict meidan housing prices from a set of features of houses in the California dataset.  This dataset is included with the scikit learn library.."
   ]
  },
  {
   "cell_type": "code",
   "execution_count": 3,
   "id": "4fef59a0",
   "metadata": {},
   "outputs": [],
   "source": [
    "from sklearn.datasets import fetch_california_housing\n",
    "housing = fetch_california_housing()\n",
    "# returns a Bunch object\n",
    "# housing"
   ]
  },
  {
   "cell_type": "markdown",
   "id": "a7fec46b",
   "metadata": {},
   "source": [
    "### Examine the Bunch Object \n",
    "Print the description of the dataset. How many of the features will be relavant for predicting housing prices? "
   ]
  },
  {
   "cell_type": "code",
   "execution_count": 4,
   "id": "4a60593d",
   "metadata": {},
   "outputs": [
    {
     "name": "stdout",
     "output_type": "stream",
     "text": [
      ".. _california_housing_dataset:\n",
      "\n",
      "California Housing dataset\n",
      "--------------------------\n",
      "\n",
      "**Data Set Characteristics:**\n",
      "\n",
      "    :Number of Instances: 20640\n",
      "\n",
      "    :Number of Attributes: 8 numeric, predictive attributes and the target\n",
      "\n",
      "    :Attribute Information:\n",
      "        - MedInc        median income in block\n",
      "        - HouseAge      median house age in block\n",
      "        - AveRooms      average number of rooms\n",
      "        - AveBedrms     average number of bedrooms\n",
      "        - Population    block population\n",
      "        - AveOccup      average house occupancy\n",
      "        - Latitude      house block latitude\n",
      "        - Longitude     house block longitude\n",
      "\n",
      "    :Missing Attribute Values: None\n",
      "\n",
      "This dataset was obtained from the StatLib repository.\n",
      "http://lib.stat.cmu.edu/datasets/\n",
      "\n",
      "The target variable is the median house value for California districts.\n",
      "\n",
      "This dataset was derived from the 1990 U.S. census, using one row per census\n",
      "block group. A block group is the smallest geographical unit for which the U.S.\n",
      "Census Bureau publishes sample data (a block group typically has a population\n",
      "of 600 to 3,000 people).\n",
      "\n",
      "It can be downloaded/loaded using the\n",
      ":func:`sklearn.datasets.fetch_california_housing` function.\n",
      "\n",
      ".. topic:: References\n",
      "\n",
      "    - Pace, R. Kelley and Ronald Barry, Sparse Spatial Autoregressions,\n",
      "      Statistics and Probability Letters, 33 (1997) 291-297\n",
      "\n"
     ]
    }
   ],
   "source": [
    "lines = (housing.DESCR).split('\\n')\n",
    "for line in lines:\n",
    "    print(line)"
   ]
  },
  {
   "cell_type": "markdown",
   "id": "0d636638",
   "metadata": {},
   "source": [
    "### Task 1:\n",
    "Use the housing data as the features to train the models (X), use the median house values as the target (y). Divide these collections into the appropriate training and test sets of data. For grading be sure to set the random state to 0.  "
   ]
  },
  {
   "cell_type": "code",
   "execution_count": 5,
   "id": "ed23b509",
   "metadata": {},
   "outputs": [
    {
     "data": {
      "text/plain": [
       "20640"
      ]
     },
     "execution_count": 5,
     "metadata": {},
     "output_type": "execute_result"
    }
   ],
   "source": [
    "X = housing.data\n",
    "y = housing.target\n",
    "len(y)"
   ]
  },
  {
   "cell_type": "code",
   "execution_count": 6,
   "id": "dc7381e1",
   "metadata": {},
   "outputs": [],
   "source": [
    "X_train, X_test, y_train, y_test = train_test_split(X, y, random_state=0)"
   ]
  },
  {
   "cell_type": "markdown",
   "id": "86b5a9fe",
   "metadata": {},
   "source": [
    "### Task 2: Linear Regression\n",
    "Remember that a Linear Regression model assumes a linear relationship in the data : \n",
    "\n",
    "$$ \\begin{aligned}\\widehat{y} = \\widehat{w_0}{x_0} + \\widehat{w_1}{x_1} + \\ldots\\cdots + \\widehat{w_n}{x_n} + b\\end{aligned}$$\n",
    "\n",
    "Where the predicted values of y are derived by minimizing the residual sum of squares (RSS, the sum of squared differences) of the predicted and actual target values:  \n",
    "\n",
    "$$ \\begin{aligned}RSS(w,b) = \\displaystyle\\sum_{i=1}^n(y_i - (wx_i + b))^2 \\end{aligned}$$\n",
    "\n",
    "Using a Linear Regression model produce an $R^2$ score for the prediction on the **y_test** values.  Store this in a variable called **r2_linear_regression**."
   ]
  },
  {
   "cell_type": "code",
   "execution_count": 7,
   "id": "386a459b",
   "metadata": {},
   "outputs": [
    {
     "data": {
      "text/plain": [
       "0.5911695436410476"
      ]
     },
     "execution_count": 7,
     "metadata": {},
     "output_type": "execute_result"
    }
   ],
   "source": [
    "reg = LinearRegression()\n",
    "reg.fit(X_train, y_train)\n",
    "pred_linReg = reg.predict(X_test)\n",
    "r2_linear_regression = r2_score(y_test, pred_linReg)\n",
    "r2_linear_regression"
   ]
  },
  {
   "cell_type": "code",
   "execution_count": 8,
   "id": "a10786fe",
   "metadata": {},
   "outputs": [],
   "source": [
    "# for use building the dataframe\n",
    "linReg = {'r2_linReg': r2_linear_regression}"
   ]
  },
  {
   "cell_type": "markdown",
   "id": "8bffc110",
   "metadata": {},
   "source": [
    "### Task 3: Lasso Regression\n",
    "\n",
    "Lasso regularization reduces the potential for overfitting a model to the data by introducing an error term based on the norm of the vector associated with the model according to the equation: \n",
    "\n",
    "$$ \\begin{aligned}RSS_{LASSO}(w,b) = \\displaystyle\\sum_{i=1}^n(y_i - (wx_i + b))^2 + \\alpha \\sum_1^p |w_i|\\end{aligned}$$\n",
    "\n",
    "Fortunately this relationship is included in the scikit learn library.  \n",
    "\n",
    "The number of features captured by the model (from 1 to p) is assumed to be greater than 0, some features are removed from the model when building the predicted values.  The degree that the model is adjusted is based on the scalar $\\alpha$ value applied to the norm. The default value for the function is 1 for a full normal factor to be applied to the error term. \n",
    "\n",
    "Train a model using Lasso Regression and store the $R^2$ score of its predictions on the **y_test** values in a variable called **r2_lasso**."
   ]
  },
  {
   "cell_type": "code",
   "execution_count": 9,
   "id": "ba4903d8",
   "metadata": {},
   "outputs": [
    {
     "data": {
      "text/plain": [
       "0.28490402733386166"
      ]
     },
     "execution_count": 9,
     "metadata": {},
     "output_type": "execute_result"
    }
   ],
   "source": [
    "reg_lso = Lasso()\n",
    "reg_lso.fit(X_train, y_train)\n",
    "pred_lso = reg_lso.predict(X_test)\n",
    "r2_lasso = r2_score(y_test, pred_lso)\n",
    "r2_lasso"
   ]
  },
  {
   "cell_type": "code",
   "execution_count": 10,
   "id": "c2182fc9",
   "metadata": {},
   "outputs": [],
   "source": [
    "# for building the dataframe\n",
    "lasso = {'r2_lasso': r2_lasso}"
   ]
  },
  {
   "cell_type": "markdown",
   "id": "1e4d04cb",
   "metadata": {},
   "source": [
    "### Task 4: Lasso Regression, reduced alpha\n",
    "Next train a second Lasso Regression model with an $\\alpha$ of 0.5 and store it's $R^2$ value in a variable called **r2_lasso_half**."
   ]
  },
  {
   "cell_type": "code",
   "execution_count": 11,
   "id": "58833e64",
   "metadata": {},
   "outputs": [
    {
     "data": {
      "text/plain": [
       "0.44351557737688474"
      ]
     },
     "execution_count": 11,
     "metadata": {},
     "output_type": "execute_result"
    }
   ],
   "source": [
    "reg_lso_2 = Lasso(alpha=0.5)\n",
    "reg_lso_2.fit(X_train, y_train)\n",
    "pred_lso_2 = reg_lso_2.predict(X_test)\n",
    "r2_lasso_half = r2_score(y_test, pred_lso_2)\n",
    "r2_lasso_half"
   ]
  },
  {
   "cell_type": "code",
   "execution_count": 12,
   "id": "bf841f9c",
   "metadata": {},
   "outputs": [],
   "source": [
    "lasso_2 = {'r2_lasso_half': r2_lasso_half}"
   ]
  },
  {
   "cell_type": "markdown",
   "id": "e5e85fd7",
   "metadata": {},
   "source": [
    "## Task 5: Ridge Regression"
   ]
  },
  {
   "cell_type": "markdown",
   "id": "cf68ac04",
   "metadata": {},
   "source": [
    "The next two tasks involve creating a prediction model for the California housing data using Ridge Regression.  Ridge Regression differs from Lasso Regression due to the nature of the error term added to the prediction:\n",
    "\n",
    "$$ \\begin{aligned}RSS_{LASSO}(w,b) = \\displaystyle\\sum_{i=1}^n(y_i - (wx_i + b))^2 + \\alpha \\sum_{j=1}^p w_j^2\\end{aligned}$$\n",
    "\n",
    "Again Ridge Regression models are part of the scikit learn library. As with the Lasso Regression model the degree that the error term influences the predictions is controled by the scalar value $\\alpha$\n",
    "\n",
    "Train a model using Ridge Regression and store the $R^2$ score of its predictions on the **y_test** values in a variable called **r2_ridge**."
   ]
  },
  {
   "cell_type": "code",
   "execution_count": 13,
   "id": "f02c38d3",
   "metadata": {},
   "outputs": [
    {
     "data": {
      "text/plain": [
       "0.5911615930747933"
      ]
     },
     "execution_count": 13,
     "metadata": {},
     "output_type": "execute_result"
    }
   ],
   "source": [
    "reg_ridge = Ridge()\n",
    "reg_ridge.fit(X_train, y_train)\n",
    "pred_ridge = reg_ridge.predict(X_test)\n",
    "r2_ridge = r2_score(y_test, pred_ridge)\n",
    "r2_ridge"
   ]
  },
  {
   "cell_type": "code",
   "execution_count": 14,
   "id": "1885b634",
   "metadata": {},
   "outputs": [],
   "source": [
    "ridge = {'r2_ridge': r2_ridge}"
   ]
  },
  {
   "cell_type": "markdown",
   "id": "4ca67875",
   "metadata": {},
   "source": [
    "## Task 6: Ridge Regression, reduced alpha\n",
    "\n",
    "Next train a second ridge regression model with an $\\alpha$ value of 0.5 and store it's $R^2$ value in a variable called **r2_ridge_half**."
   ]
  },
  {
   "cell_type": "code",
   "execution_count": 15,
   "id": "b35bb026",
   "metadata": {},
   "outputs": [
    {
     "data": {
      "text/plain": [
       "0.5911655745845577"
      ]
     },
     "execution_count": 15,
     "metadata": {},
     "output_type": "execute_result"
    }
   ],
   "source": [
    "reg_ridge_half = Ridge(alpha=0.5)\n",
    "reg_ridge_half.fit(X_train, y_train)\n",
    "pred_ridge_half = reg_ridge_half.predict(X_test)\n",
    "r2_ridge_half = r2_score(y_test, pred_ridge_half)\n",
    "r2_ridge_half"
   ]
  },
  {
   "cell_type": "code",
   "execution_count": 16,
   "id": "08d37816",
   "metadata": {},
   "outputs": [],
   "source": [
    "ridge_2 = {'r2_ridge_half': r2_ridge_half}"
   ]
  },
  {
   "cell_type": "markdown",
   "id": "e78dfb35",
   "metadata": {},
   "source": [
    "## Task 7: DataFrame to Compare\n",
    "\n",
    "Next assemble the collection of $R^2$ values into a DataFrame where the indices are the names of the $R^2$ scores and the single column is labled, **\"R_2 California Housing\"**.  Sort the values in ascending order. "
   ]
  },
  {
   "cell_type": "code",
   "execution_count": 17,
   "id": "56e90808",
   "metadata": {},
   "outputs": [],
   "source": [
    "obj = [linReg, lasso, lasso_2, ridge, ridge_2]\n",
    "o2 = {}\n",
    "names = []\n",
    "for d in obj:\n",
    "    for k,v in d.items():\n",
    "        names.append(k)\n",
    "        o2[k] = v"
   ]
  },
  {
   "cell_type": "code",
   "execution_count": 18,
   "id": "a6bb8e06",
   "metadata": {},
   "outputs": [],
   "source": [
    "d2 = pd.DataFrame(o2, index=['R2 California Housing'])"
   ]
  },
  {
   "cell_type": "code",
   "execution_count": 19,
   "id": "15521112",
   "metadata": {},
   "outputs": [
    {
     "data": {
      "text/html": [
       "<div>\n",
       "<style scoped>\n",
       "    .dataframe tbody tr th:only-of-type {\n",
       "        vertical-align: middle;\n",
       "    }\n",
       "\n",
       "    .dataframe tbody tr th {\n",
       "        vertical-align: top;\n",
       "    }\n",
       "\n",
       "    .dataframe thead th {\n",
       "        text-align: right;\n",
       "    }\n",
       "</style>\n",
       "<table border=\"1\" class=\"dataframe\">\n",
       "  <thead>\n",
       "    <tr style=\"text-align: right;\">\n",
       "      <th></th>\n",
       "      <th>R2 California Housing</th>\n",
       "    </tr>\n",
       "  </thead>\n",
       "  <tbody>\n",
       "    <tr>\n",
       "      <th>r2_lasso</th>\n",
       "      <td>0.284904</td>\n",
       "    </tr>\n",
       "    <tr>\n",
       "      <th>r2_lasso_half</th>\n",
       "      <td>0.443516</td>\n",
       "    </tr>\n",
       "    <tr>\n",
       "      <th>r2_ridge</th>\n",
       "      <td>0.591162</td>\n",
       "    </tr>\n",
       "    <tr>\n",
       "      <th>r2_ridge_half</th>\n",
       "      <td>0.591166</td>\n",
       "    </tr>\n",
       "    <tr>\n",
       "      <th>r2_linReg</th>\n",
       "      <td>0.591170</td>\n",
       "    </tr>\n",
       "  </tbody>\n",
       "</table>\n",
       "</div>"
      ],
      "text/plain": [
       "               R2 California Housing\n",
       "r2_lasso                    0.284904\n",
       "r2_lasso_half               0.443516\n",
       "r2_ridge                    0.591162\n",
       "r2_ridge_half               0.591166\n",
       "r2_linReg                   0.591170"
      ]
     },
     "execution_count": 19,
     "metadata": {},
     "output_type": "execute_result"
    }
   ],
   "source": [
    "d2 = d2.T\n",
    "d3 = d2.sort_values(by='R2 California Housing')\n",
    "d3"
   ]
  },
  {
   "cell_type": "markdown",
   "id": "3623ce9f",
   "metadata": {},
   "source": [
    "**Reflection:** What can you conclude from the order of the values?"
   ]
  },
  {
   "cell_type": "code",
   "execution_count": null,
   "id": "3995693c",
   "metadata": {},
   "outputs": [],
   "source": []
  },
  {
   "cell_type": "code",
   "execution_count": null,
   "id": "b2892625",
   "metadata": {},
   "outputs": [],
   "source": []
  },
  {
   "cell_type": "code",
   "execution_count": null,
   "id": "3c4e0a5d",
   "metadata": {},
   "outputs": [],
   "source": []
  },
  {
   "cell_type": "code",
   "execution_count": null,
   "id": "eec5fdc0",
   "metadata": {},
   "outputs": [],
   "source": []
  },
  {
   "cell_type": "code",
   "execution_count": null,
   "id": "0830116a",
   "metadata": {},
   "outputs": [],
   "source": []
  },
  {
   "cell_type": "code",
   "execution_count": null,
   "id": "9d714f87",
   "metadata": {},
   "outputs": [],
   "source": []
  },
  {
   "cell_type": "markdown",
   "id": "5ba31ff1",
   "metadata": {},
   "source": [
    "# Augmented California Housing Dataset"
   ]
  },
  {
   "cell_type": "code",
   "execution_count": 20,
   "id": "c472c3e7",
   "metadata": {},
   "outputs": [
    {
     "data": {
      "text/plain": [
       "((20640, 8), (20640,))"
      ]
     },
     "execution_count": 20,
     "metadata": {},
     "output_type": "execute_result"
    }
   ],
   "source": [
    "X = housing.data\n",
    "y = housing.target\n",
    "X.shape, y.shape"
   ]
  },
  {
   "cell_type": "code",
   "execution_count": 21,
   "id": "2a0292df",
   "metadata": {},
   "outputs": [],
   "source": [
    "def augment_X_random(X):\n",
    "    augmented_array = []\n",
    "\n",
    "    for sample in X:\n",
    "        sample = list(sample)\n",
    "        augmentation = np.random.randint(1000, size=100)\n",
    "        sample.extend(augmentation)\n",
    "        augmented_array.append(sample)\n",
    "\n",
    "    return np.array(augmented_array)"
   ]
  },
  {
   "cell_type": "code",
   "execution_count": 22,
   "id": "d01e2603",
   "metadata": {},
   "outputs": [],
   "source": [
    "def augment_X_methodical(X):\n",
    "\n",
    "    augmented_array = []\n",
    "\n",
    "    for sample in X:\n",
    "        sample = list(sample)\n",
    "        inner_arr = []\n",
    "        for s in sample:\n",
    "            inner_arr.append(s)\n",
    "            augment = [s*5*i for i in range(5)]\n",
    "            inner_arr.extend(augment)\n",
    "\n",
    "        augmented_array.append(inner_arr)\n",
    "\n",
    "    return np.array(augmented_array)"
   ]
  },
  {
   "cell_type": "code",
   "execution_count": 23,
   "id": "1b7adc01",
   "metadata": {},
   "outputs": [],
   "source": [
    "X= augment_X_random(X)\n",
    "#X = augment_X_methodical(X)"
   ]
  },
  {
   "cell_type": "code",
   "execution_count": 24,
   "id": "2176d52a",
   "metadata": {},
   "outputs": [
    {
     "data": {
      "text/plain": [
       "(20640, 108)"
      ]
     },
     "execution_count": 24,
     "metadata": {},
     "output_type": "execute_result"
    }
   ],
   "source": [
    "X.shape"
   ]
  },
  {
   "cell_type": "code",
   "execution_count": 25,
   "id": "cf83beff",
   "metadata": {},
   "outputs": [],
   "source": [
    "X_train, X_test, y_train, y_test = train_test_split(X, y, random_state=0)"
   ]
  },
  {
   "cell_type": "code",
   "execution_count": 26,
   "id": "3ab3f1bb",
   "metadata": {},
   "outputs": [
    {
     "data": {
      "text/plain": [
       "0.5886220754193647"
      ]
     },
     "execution_count": 26,
     "metadata": {},
     "output_type": "execute_result"
    }
   ],
   "source": [
    "reg = LinearRegression()\n",
    "reg.fit(X_train, y_train)\n",
    "pred_linReg = reg.predict(X_test)\n",
    "r2_linear_regression = r2_score(y_test, pred_linReg)\n",
    "r2_linear_regression"
   ]
  },
  {
   "cell_type": "code",
   "execution_count": 27,
   "id": "0e638400",
   "metadata": {},
   "outputs": [],
   "source": [
    "# for use building the dataframe\n",
    "linReg = {'r2_linReg': r2_linear_regression}"
   ]
  },
  {
   "cell_type": "code",
   "execution_count": 28,
   "id": "47758fc1",
   "metadata": {},
   "outputs": [
    {
     "data": {
      "text/plain": [
       "0.2806281754108042"
      ]
     },
     "execution_count": 28,
     "metadata": {},
     "output_type": "execute_result"
    }
   ],
   "source": [
    "reg_lso = Lasso()\n",
    "reg_lso.fit(X_train, y_train)\n",
    "pred_lso = reg_lso.predict(X_test)\n",
    "r2_lasso = r2_score(y_test, pred_lso)\n",
    "r2_lasso"
   ]
  },
  {
   "cell_type": "code",
   "execution_count": 29,
   "id": "ad3a905b",
   "metadata": {},
   "outputs": [],
   "source": [
    "# for building the dataframe\n",
    "lasso = {'r2_lasso': r2_lasso}"
   ]
  },
  {
   "cell_type": "code",
   "execution_count": 30,
   "id": "3804af25",
   "metadata": {},
   "outputs": [
    {
     "data": {
      "text/plain": [
       "0.4405208203953833"
      ]
     },
     "execution_count": 30,
     "metadata": {},
     "output_type": "execute_result"
    }
   ],
   "source": [
    "reg_lso_2 = Lasso(alpha=0.5)\n",
    "reg_lso_2.fit(X_train, y_train)\n",
    "pred_lso_2 = reg_lso_2.predict(X_test)\n",
    "r2_lasso_half = r2_score(y_test, pred_lso_2)\n",
    "r2_lasso_half"
   ]
  },
  {
   "cell_type": "code",
   "execution_count": 31,
   "id": "a274c7dd",
   "metadata": {},
   "outputs": [],
   "source": [
    "lasso_2 = {'r2_lasso_half': r2_lasso_half}"
   ]
  },
  {
   "cell_type": "code",
   "execution_count": 32,
   "id": "38777adb",
   "metadata": {},
   "outputs": [
    {
     "data": {
      "text/plain": [
       "0.5886137203373516"
      ]
     },
     "execution_count": 32,
     "metadata": {},
     "output_type": "execute_result"
    }
   ],
   "source": [
    "reg_ridge = Ridge()\n",
    "reg_ridge.fit(X_train, y_train)\n",
    "pred_ridge = reg_ridge.predict(X_test)\n",
    "r2_ridge = r2_score(y_test, pred_ridge)\n",
    "r2_ridge"
   ]
  },
  {
   "cell_type": "code",
   "execution_count": 33,
   "id": "795c6ec0",
   "metadata": {},
   "outputs": [],
   "source": [
    "ridge = {'r2_ridge': r2_ridge}"
   ]
  },
  {
   "cell_type": "code",
   "execution_count": 34,
   "id": "2b2e2bea",
   "metadata": {},
   "outputs": [
    {
     "data": {
      "text/plain": [
       "0.5886179040797443"
      ]
     },
     "execution_count": 34,
     "metadata": {},
     "output_type": "execute_result"
    }
   ],
   "source": [
    "reg_ridge_half = Ridge(alpha=0.5)\n",
    "reg_ridge_half.fit(X_train, y_train)\n",
    "pred_ridge_half = reg_ridge_half.predict(X_test)\n",
    "r2_ridge_half = r2_score(y_test, pred_ridge_half)\n",
    "r2_ridge_half"
   ]
  },
  {
   "cell_type": "code",
   "execution_count": 35,
   "id": "4d76042b",
   "metadata": {},
   "outputs": [],
   "source": [
    "ridge_2 = {'r2_ridge_half': r2_ridge_half}"
   ]
  },
  {
   "cell_type": "code",
   "execution_count": 36,
   "id": "0077f0d0",
   "metadata": {},
   "outputs": [],
   "source": [
    "obj = [linReg, lasso, lasso_2, ridge, ridge_2]\n",
    "o2a = {}\n",
    "names = []\n",
    "for d in obj:\n",
    "    for k,v in d.items():\n",
    "        names.append(k)\n",
    "        o2a[k] = v"
   ]
  },
  {
   "cell_type": "code",
   "execution_count": 37,
   "id": "3570e7c1",
   "metadata": {},
   "outputs": [],
   "source": [
    "d2a = pd.DataFrame(o2a, index=['R2 Augmented California Housing'])"
   ]
  },
  {
   "cell_type": "code",
   "execution_count": 38,
   "id": "113fb5bd",
   "metadata": {},
   "outputs": [
    {
     "data": {
      "text/html": [
       "<div>\n",
       "<style scoped>\n",
       "    .dataframe tbody tr th:only-of-type {\n",
       "        vertical-align: middle;\n",
       "    }\n",
       "\n",
       "    .dataframe tbody tr th {\n",
       "        vertical-align: top;\n",
       "    }\n",
       "\n",
       "    .dataframe thead th {\n",
       "        text-align: right;\n",
       "    }\n",
       "</style>\n",
       "<table border=\"1\" class=\"dataframe\">\n",
       "  <thead>\n",
       "    <tr style=\"text-align: right;\">\n",
       "      <th></th>\n",
       "      <th>R2 Augmented California Housing</th>\n",
       "    </tr>\n",
       "  </thead>\n",
       "  <tbody>\n",
       "    <tr>\n",
       "      <th>r2_lasso</th>\n",
       "      <td>0.280628</td>\n",
       "    </tr>\n",
       "    <tr>\n",
       "      <th>r2_lasso_half</th>\n",
       "      <td>0.440521</td>\n",
       "    </tr>\n",
       "    <tr>\n",
       "      <th>r2_ridge</th>\n",
       "      <td>0.588614</td>\n",
       "    </tr>\n",
       "    <tr>\n",
       "      <th>r2_ridge_half</th>\n",
       "      <td>0.588618</td>\n",
       "    </tr>\n",
       "    <tr>\n",
       "      <th>r2_linReg</th>\n",
       "      <td>0.588622</td>\n",
       "    </tr>\n",
       "  </tbody>\n",
       "</table>\n",
       "</div>"
      ],
      "text/plain": [
       "               R2 Augmented California Housing\n",
       "r2_lasso                              0.280628\n",
       "r2_lasso_half                         0.440521\n",
       "r2_ridge                              0.588614\n",
       "r2_ridge_half                         0.588618\n",
       "r2_linReg                             0.588622"
      ]
     },
     "execution_count": 38,
     "metadata": {},
     "output_type": "execute_result"
    }
   ],
   "source": [
    "d2a = d2a.T\n",
    "d3a = d2a.sort_values(by='R2 Augmented California Housing')\n",
    "d3a"
   ]
  },
  {
   "cell_type": "code",
   "execution_count": 39,
   "id": "eee3d8ec",
   "metadata": {},
   "outputs": [
    {
     "data": {
      "text/plain": [
       "(               R2 California Housing\n",
       " r2_lasso                    0.284904\n",
       " r2_lasso_half               0.443516\n",
       " r2_ridge                    0.591162\n",
       " r2_ridge_half               0.591166\n",
       " r2_linReg                   0.591170,\n",
       "                R2 Augmented California Housing\n",
       " r2_lasso                              0.280628\n",
       " r2_lasso_half                         0.440521\n",
       " r2_ridge                              0.588614\n",
       " r2_ridge_half                         0.588618\n",
       " r2_linReg                             0.588622)"
      ]
     },
     "execution_count": 39,
     "metadata": {},
     "output_type": "execute_result"
    }
   ],
   "source": [
    "d3, d3a"
   ]
  },
  {
   "cell_type": "code",
   "execution_count": null,
   "id": "9edaf7d6",
   "metadata": {},
   "outputs": [],
   "source": []
  },
  {
   "cell_type": "code",
   "execution_count": null,
   "id": "941d9730",
   "metadata": {},
   "outputs": [],
   "source": []
  }
 ],
 "metadata": {
  "kernelspec": {
   "display_name": "Python 3",
   "language": "python",
   "name": "python3"
  },
  "language_info": {
   "codemirror_mode": {
    "name": "ipython",
    "version": 3
   },
   "file_extension": ".py",
   "mimetype": "text/x-python",
   "name": "python",
   "nbconvert_exporter": "python",
   "pygments_lexer": "ipython3",
   "version": "3.8.8"
  }
 },
 "nbformat": 4,
 "nbformat_minor": 5
}
