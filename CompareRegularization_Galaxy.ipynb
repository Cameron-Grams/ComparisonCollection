{
 "cells": [
  {
   "cell_type": "code",
   "execution_count": 1,
   "id": "dc356407",
   "metadata": {},
   "outputs": [],
   "source": [
    "import pandas as pd\n",
    "import numpy as np\n",
    "import matplotlib.pyplot as plt"
   ]
  },
  {
   "cell_type": "code",
   "execution_count": 2,
   "id": "d1ceb0e8",
   "metadata": {},
   "outputs": [],
   "source": [
    "from sklearn.model_selection import train_test_split\n",
    "from sklearn.linear_model import LinearRegression, Lasso, Ridge\n",
    "\n",
    "from sklearn.metrics import r2_score"
   ]
  },
  {
   "cell_type": "code",
   "execution_count": 3,
   "id": "8d323ba5",
   "metadata": {},
   "outputs": [],
   "source": [
    "from sklearn.ensemble import RandomForestRegressor"
   ]
  },
  {
   "cell_type": "code",
   "execution_count": 4,
   "id": "3881fd21",
   "metadata": {},
   "outputs": [],
   "source": [
    "df = pd.read_csv('./data/Galaxy.csv')"
   ]
  },
  {
   "cell_type": "code",
   "execution_count": 5,
   "id": "33b39ef3",
   "metadata": {},
   "outputs": [
    {
     "data": {
      "text/html": [
       "<div>\n",
       "<style scoped>\n",
       "    .dataframe tbody tr th:only-of-type {\n",
       "        vertical-align: middle;\n",
       "    }\n",
       "\n",
       "    .dataframe tbody tr th {\n",
       "        vertical-align: top;\n",
       "    }\n",
       "\n",
       "    .dataframe thead th {\n",
       "        text-align: right;\n",
       "    }\n",
       "</style>\n",
       "<table border=\"1\" class=\"dataframe\">\n",
       "  <thead>\n",
       "    <tr style=\"text-align: right;\">\n",
       "      <th></th>\n",
       "      <th>row.names</th>\n",
       "      <th>east.west</th>\n",
       "      <th>north.south</th>\n",
       "      <th>angle</th>\n",
       "      <th>radial.position</th>\n",
       "      <th>velocity</th>\n",
       "    </tr>\n",
       "  </thead>\n",
       "  <tbody>\n",
       "    <tr>\n",
       "      <th>0</th>\n",
       "      <td>3</td>\n",
       "      <td>8.462789</td>\n",
       "      <td>-38.173172</td>\n",
       "      <td>102.5</td>\n",
       "      <td>39.099998</td>\n",
       "      <td>1769</td>\n",
       "    </tr>\n",
       "    <tr>\n",
       "      <th>1</th>\n",
       "      <td>4</td>\n",
       "      <td>7.964978</td>\n",
       "      <td>-35.927692</td>\n",
       "      <td>102.5</td>\n",
       "      <td>36.799999</td>\n",
       "      <td>1749</td>\n",
       "    </tr>\n",
       "    <tr>\n",
       "      <th>2</th>\n",
       "      <td>5</td>\n",
       "      <td>7.467167</td>\n",
       "      <td>-33.682213</td>\n",
       "      <td>102.5</td>\n",
       "      <td>34.500001</td>\n",
       "      <td>1749</td>\n",
       "    </tr>\n",
       "    <tr>\n",
       "      <th>3</th>\n",
       "      <td>6</td>\n",
       "      <td>6.969356</td>\n",
       "      <td>-31.436731</td>\n",
       "      <td>102.5</td>\n",
       "      <td>32.200000</td>\n",
       "      <td>1758</td>\n",
       "    </tr>\n",
       "    <tr>\n",
       "      <th>4</th>\n",
       "      <td>7</td>\n",
       "      <td>6.471544</td>\n",
       "      <td>-29.191250</td>\n",
       "      <td>102.5</td>\n",
       "      <td>29.899999</td>\n",
       "      <td>1750</td>\n",
       "    </tr>\n",
       "  </tbody>\n",
       "</table>\n",
       "</div>"
      ],
      "text/plain": [
       "   row.names  east.west  north.south  angle  radial.position  velocity\n",
       "0          3   8.462789   -38.173172  102.5        39.099998      1769\n",
       "1          4   7.964978   -35.927692  102.5        36.799999      1749\n",
       "2          5   7.467167   -33.682213  102.5        34.500001      1749\n",
       "3          6   6.969356   -31.436731  102.5        32.200000      1758\n",
       "4          7   6.471544   -29.191250  102.5        29.899999      1750"
      ]
     },
     "execution_count": 5,
     "metadata": {},
     "output_type": "execute_result"
    }
   ],
   "source": [
    "df.head()"
   ]
  },
  {
   "cell_type": "code",
   "execution_count": 6,
   "id": "f5c8f5bb",
   "metadata": {},
   "outputs": [
    {
     "data": {
      "text/plain": [
       "Index(['row.names', 'east.west', 'north.south', 'angle', 'radial.position',\n",
       "       'velocity'],\n",
       "      dtype='object')"
      ]
     },
     "execution_count": 6,
     "metadata": {},
     "output_type": "execute_result"
    }
   ],
   "source": [
    "df.columns"
   ]
  },
  {
   "cell_type": "code",
   "execution_count": 7,
   "id": "4e5212c2",
   "metadata": {},
   "outputs": [],
   "source": [
    "X = df[['east.west', 'north.south', 'angle', 'radial.position']]\n",
    "y = df[['velocity']]"
   ]
  },
  {
   "cell_type": "code",
   "execution_count": null,
   "id": "a2b2d61b",
   "metadata": {},
   "outputs": [],
   "source": []
  },
  {
   "cell_type": "code",
   "execution_count": null,
   "id": "acfa4317",
   "metadata": {},
   "outputs": [],
   "source": []
  },
  {
   "cell_type": "code",
   "execution_count": null,
   "id": "7baf850e",
   "metadata": {},
   "outputs": [],
   "source": []
  },
  {
   "cell_type": "code",
   "execution_count": 8,
   "id": "66538c9f",
   "metadata": {},
   "outputs": [],
   "source": [
    "X_train, X_test, y_train, y_test = train_test_split(X, y)"
   ]
  },
  {
   "cell_type": "markdown",
   "id": "bf96b348",
   "metadata": {},
   "source": [
    "## Linear Regression Model"
   ]
  },
  {
   "cell_type": "code",
   "execution_count": 9,
   "id": "a1a88dc5",
   "metadata": {},
   "outputs": [],
   "source": [
    "reg = LinearRegression()"
   ]
  },
  {
   "cell_type": "code",
   "execution_count": 10,
   "id": "737f5891",
   "metadata": {},
   "outputs": [
    {
     "data": {
      "text/plain": [
       "LinearRegression()"
      ]
     },
     "execution_count": 10,
     "metadata": {},
     "output_type": "execute_result"
    }
   ],
   "source": [
    "reg.fit(X_train, y_train)"
   ]
  },
  {
   "cell_type": "code",
   "execution_count": 11,
   "id": "1f1bf0ef",
   "metadata": {},
   "outputs": [],
   "source": [
    "pred_linReg = reg.predict(X_test)"
   ]
  },
  {
   "cell_type": "code",
   "execution_count": 12,
   "id": "4713a039",
   "metadata": {},
   "outputs": [
    {
     "data": {
      "text/plain": [
       "0.8948611191528733"
      ]
     },
     "execution_count": 12,
     "metadata": {},
     "output_type": "execute_result"
    }
   ],
   "source": [
    "r2_linReg = r2_score(y_test, pred_linReg)\n",
    "r2_linReg"
   ]
  },
  {
   "cell_type": "code",
   "execution_count": 13,
   "id": "c48f6f08",
   "metadata": {},
   "outputs": [],
   "source": [
    "linReg = {'r2_linReg': r2_linReg}"
   ]
  },
  {
   "cell_type": "markdown",
   "id": "b9af4460",
   "metadata": {},
   "source": [
    "## Lasso Models L1 Regularization"
   ]
  },
  {
   "cell_type": "code",
   "execution_count": 14,
   "id": "731e8f10",
   "metadata": {},
   "outputs": [],
   "source": [
    "reg_lso = Lasso()"
   ]
  },
  {
   "cell_type": "code",
   "execution_count": 15,
   "id": "7dcd4a33",
   "metadata": {},
   "outputs": [
    {
     "data": {
      "text/plain": [
       "Lasso()"
      ]
     },
     "execution_count": 15,
     "metadata": {},
     "output_type": "execute_result"
    }
   ],
   "source": [
    "reg_lso.fit(X_train, y_train)"
   ]
  },
  {
   "cell_type": "code",
   "execution_count": 16,
   "id": "ed8640cd",
   "metadata": {},
   "outputs": [],
   "source": [
    "pred_lso = reg_lso.predict(X_test)"
   ]
  },
  {
   "cell_type": "code",
   "execution_count": 17,
   "id": "53ab9119",
   "metadata": {},
   "outputs": [
    {
     "data": {
      "text/plain": [
       "0.8949810801127545"
      ]
     },
     "execution_count": 17,
     "metadata": {},
     "output_type": "execute_result"
    }
   ],
   "source": [
    "r2_lasso = r2_score(y_test, pred_lso)\n",
    "r2_lasso"
   ]
  },
  {
   "cell_type": "code",
   "execution_count": 18,
   "id": "c1f0cc3c",
   "metadata": {},
   "outputs": [],
   "source": [
    "lasso = {'r2_lasso': r2_lasso}"
   ]
  },
  {
   "cell_type": "markdown",
   "id": "2d0aa979",
   "metadata": {},
   "source": [
    "### Reduce the amount of L1 Regularization"
   ]
  },
  {
   "cell_type": "code",
   "execution_count": 19,
   "id": "a6170d03",
   "metadata": {},
   "outputs": [],
   "source": [
    "reg_lso_2 = Lasso(alpha=0.5)"
   ]
  },
  {
   "cell_type": "code",
   "execution_count": 20,
   "id": "62b5243c",
   "metadata": {},
   "outputs": [
    {
     "data": {
      "text/plain": [
       "Lasso(alpha=0.5)"
      ]
     },
     "execution_count": 20,
     "metadata": {},
     "output_type": "execute_result"
    }
   ],
   "source": [
    "reg_lso_2.fit(X_train, y_train)"
   ]
  },
  {
   "cell_type": "code",
   "execution_count": 21,
   "id": "a968d11b",
   "metadata": {},
   "outputs": [],
   "source": [
    "pred_lso_2 = reg_lso_2.predict(X_test)"
   ]
  },
  {
   "cell_type": "code",
   "execution_count": 22,
   "id": "aa53bea0",
   "metadata": {},
   "outputs": [
    {
     "data": {
      "text/plain": [
       "0.894916215173488"
      ]
     },
     "execution_count": 22,
     "metadata": {},
     "output_type": "execute_result"
    }
   ],
   "source": [
    "r2_lasso_2 = r2_score(y_test, pred_lso_2)\n",
    "r2_lasso_2"
   ]
  },
  {
   "cell_type": "code",
   "execution_count": 23,
   "id": "0ddf3e2e",
   "metadata": {},
   "outputs": [],
   "source": [
    "lasso_2 = {'r2_lasso_2': r2_lasso_2}"
   ]
  },
  {
   "cell_type": "markdown",
   "id": "8cb96d9c",
   "metadata": {},
   "source": [
    "## Ridge Model L2 Regularization"
   ]
  },
  {
   "cell_type": "code",
   "execution_count": 24,
   "id": "196f4e70",
   "metadata": {},
   "outputs": [],
   "source": [
    "reg_ridge = Ridge()"
   ]
  },
  {
   "cell_type": "code",
   "execution_count": 25,
   "id": "a842fa48",
   "metadata": {},
   "outputs": [
    {
     "data": {
      "text/plain": [
       "Ridge()"
      ]
     },
     "execution_count": 25,
     "metadata": {},
     "output_type": "execute_result"
    }
   ],
   "source": [
    "reg_ridge.fit(X_train, y_train)"
   ]
  },
  {
   "cell_type": "code",
   "execution_count": 26,
   "id": "a5912eba",
   "metadata": {},
   "outputs": [],
   "source": [
    "pred_ridge = reg_ridge.predict(X_test)"
   ]
  },
  {
   "cell_type": "code",
   "execution_count": 27,
   "id": "f0f50e97",
   "metadata": {},
   "outputs": [
    {
     "data": {
      "text/plain": [
       "0.8948629493551072"
      ]
     },
     "execution_count": 27,
     "metadata": {},
     "output_type": "execute_result"
    }
   ],
   "source": [
    "r2_ridge = r2_score(y_test, pred_ridge)\n",
    "r2_ridge"
   ]
  },
  {
   "cell_type": "code",
   "execution_count": 28,
   "id": "0eff1377",
   "metadata": {},
   "outputs": [],
   "source": [
    "ridge = {'r2_ridge': r2_ridge}"
   ]
  },
  {
   "cell_type": "markdown",
   "id": "742526ff",
   "metadata": {},
   "source": [
    "### Reduced Ridge Regression"
   ]
  },
  {
   "cell_type": "code",
   "execution_count": 29,
   "id": "58b404c5",
   "metadata": {},
   "outputs": [],
   "source": [
    "reg_ridge_2 = Ridge(alpha=0.5)"
   ]
  },
  {
   "cell_type": "code",
   "execution_count": 30,
   "id": "1af06a88",
   "metadata": {},
   "outputs": [
    {
     "data": {
      "text/plain": [
       "Ridge(alpha=0.5)"
      ]
     },
     "execution_count": 30,
     "metadata": {},
     "output_type": "execute_result"
    }
   ],
   "source": [
    "reg_ridge_2.fit(X_train, y_train)"
   ]
  },
  {
   "cell_type": "code",
   "execution_count": 31,
   "id": "6c001720",
   "metadata": {},
   "outputs": [],
   "source": [
    "pred_ridge_2 = reg_ridge_2.predict(X_test)"
   ]
  },
  {
   "cell_type": "code",
   "execution_count": 32,
   "id": "faf376b5",
   "metadata": {},
   "outputs": [
    {
     "data": {
      "text/plain": [
       "0.8948620343593974"
      ]
     },
     "execution_count": 32,
     "metadata": {},
     "output_type": "execute_result"
    }
   ],
   "source": [
    "r2_ridge_2 = r2_score(y_test, pred_ridge_2)\n",
    "r2_ridge_2"
   ]
  },
  {
   "cell_type": "code",
   "execution_count": 33,
   "id": "3206f60e",
   "metadata": {},
   "outputs": [],
   "source": [
    "ridge_2 = {'r2_ridge_2': r2_ridge_2}"
   ]
  },
  {
   "cell_type": "markdown",
   "id": "b006a23d",
   "metadata": {},
   "source": [
    "## Compare non-linear model: Random Forest"
   ]
  },
  {
   "cell_type": "code",
   "execution_count": 34,
   "id": "4763b6cd",
   "metadata": {},
   "outputs": [],
   "source": [
    "reg_rf = RandomForestRegressor()"
   ]
  },
  {
   "cell_type": "code",
   "execution_count": 35,
   "id": "20c4942f",
   "metadata": {},
   "outputs": [
    {
     "name": "stderr",
     "output_type": "stream",
     "text": [
      "<ipython-input-35-cde1da73c75f>:1: DataConversionWarning: A column-vector y was passed when a 1d array was expected. Please change the shape of y to (n_samples,), for example using ravel().\n",
      "  reg_rf.fit(X_train, y_train)\n"
     ]
    },
    {
     "data": {
      "text/plain": [
       "0.9634351978503376"
      ]
     },
     "execution_count": 35,
     "metadata": {},
     "output_type": "execute_result"
    }
   ],
   "source": [
    "reg_rf.fit(X_train, y_train)\n",
    "pred_reg_rf = reg_rf.predict(X_test)\n",
    "r2_reg_rf = r2_score(y_test, pred_reg_rf)\n",
    "r2_reg_rf"
   ]
  },
  {
   "cell_type": "code",
   "execution_count": 36,
   "id": "d71033a1",
   "metadata": {},
   "outputs": [],
   "source": [
    "r2_rf = {'r2_reg_rf': r2_reg_rf}"
   ]
  },
  {
   "cell_type": "code",
   "execution_count": null,
   "id": "4af27da6",
   "metadata": {},
   "outputs": [],
   "source": []
  },
  {
   "cell_type": "code",
   "execution_count": null,
   "id": "9f32fa4c",
   "metadata": {},
   "outputs": [],
   "source": []
  },
  {
   "cell_type": "markdown",
   "id": "10c3a230",
   "metadata": {},
   "source": [
    "## Compare the various models"
   ]
  },
  {
   "cell_type": "code",
   "execution_count": 37,
   "id": "198c3b6f",
   "metadata": {},
   "outputs": [],
   "source": [
    "obj = [linReg, lasso, lasso_2, ridge, ridge_2, r2_rf]"
   ]
  },
  {
   "cell_type": "code",
   "execution_count": 38,
   "id": "ba0e1c66",
   "metadata": {},
   "outputs": [],
   "source": [
    "o2 = {}\n",
    "names = []\n",
    "for d in obj:\n",
    "    for k,v in d.items():\n",
    "        names.append(k)\n",
    "        o2[k] = v"
   ]
  },
  {
   "cell_type": "code",
   "execution_count": 39,
   "id": "83cfff24",
   "metadata": {},
   "outputs": [
    {
     "data": {
      "text/plain": [
       "{'r2_linReg': 0.8948611191528733,\n",
       " 'r2_lasso': 0.8949810801127545,\n",
       " 'r2_lasso_2': 0.894916215173488,\n",
       " 'r2_ridge': 0.8948629493551072,\n",
       " 'r2_ridge_2': 0.8948620343593974,\n",
       " 'r2_reg_rf': 0.9634351978503376}"
      ]
     },
     "execution_count": 39,
     "metadata": {},
     "output_type": "execute_result"
    }
   ],
   "source": [
    "o2"
   ]
  },
  {
   "cell_type": "code",
   "execution_count": 43,
   "id": "232229c8",
   "metadata": {},
   "outputs": [],
   "source": [
    "d2 = pd.DataFrame(o2, index=['R2 Galaxies'])"
   ]
  },
  {
   "cell_type": "code",
   "execution_count": 44,
   "id": "62856ccc",
   "metadata": {},
   "outputs": [
    {
     "data": {
      "text/html": [
       "<div>\n",
       "<style scoped>\n",
       "    .dataframe tbody tr th:only-of-type {\n",
       "        vertical-align: middle;\n",
       "    }\n",
       "\n",
       "    .dataframe tbody tr th {\n",
       "        vertical-align: top;\n",
       "    }\n",
       "\n",
       "    .dataframe thead th {\n",
       "        text-align: right;\n",
       "    }\n",
       "</style>\n",
       "<table border=\"1\" class=\"dataframe\">\n",
       "  <thead>\n",
       "    <tr style=\"text-align: right;\">\n",
       "      <th></th>\n",
       "      <th>R2 Galaxies</th>\n",
       "    </tr>\n",
       "  </thead>\n",
       "  <tbody>\n",
       "    <tr>\n",
       "      <th>r2_linReg</th>\n",
       "      <td>0.894861</td>\n",
       "    </tr>\n",
       "    <tr>\n",
       "      <th>r2_lasso</th>\n",
       "      <td>0.894981</td>\n",
       "    </tr>\n",
       "    <tr>\n",
       "      <th>r2_lasso_2</th>\n",
       "      <td>0.894916</td>\n",
       "    </tr>\n",
       "    <tr>\n",
       "      <th>r2_ridge</th>\n",
       "      <td>0.894863</td>\n",
       "    </tr>\n",
       "    <tr>\n",
       "      <th>r2_ridge_2</th>\n",
       "      <td>0.894862</td>\n",
       "    </tr>\n",
       "    <tr>\n",
       "      <th>r2_reg_rf</th>\n",
       "      <td>0.963435</td>\n",
       "    </tr>\n",
       "  </tbody>\n",
       "</table>\n",
       "</div>"
      ],
      "text/plain": [
       "            R2 Galaxies\n",
       "r2_linReg      0.894861\n",
       "r2_lasso       0.894981\n",
       "r2_lasso_2     0.894916\n",
       "r2_ridge       0.894863\n",
       "r2_ridge_2     0.894862\n",
       "r2_reg_rf      0.963435"
      ]
     },
     "execution_count": 44,
     "metadata": {},
     "output_type": "execute_result"
    }
   ],
   "source": [
    "d2 = d2.T\n",
    "d2"
   ]
  },
  {
   "cell_type": "code",
   "execution_count": 45,
   "id": "3215da31",
   "metadata": {},
   "outputs": [
    {
     "data": {
      "text/html": [
       "<div>\n",
       "<style scoped>\n",
       "    .dataframe tbody tr th:only-of-type {\n",
       "        vertical-align: middle;\n",
       "    }\n",
       "\n",
       "    .dataframe tbody tr th {\n",
       "        vertical-align: top;\n",
       "    }\n",
       "\n",
       "    .dataframe thead th {\n",
       "        text-align: right;\n",
       "    }\n",
       "</style>\n",
       "<table border=\"1\" class=\"dataframe\">\n",
       "  <thead>\n",
       "    <tr style=\"text-align: right;\">\n",
       "      <th></th>\n",
       "      <th>R2 Galaxies</th>\n",
       "    </tr>\n",
       "  </thead>\n",
       "  <tbody>\n",
       "    <tr>\n",
       "      <th>r2_linReg</th>\n",
       "      <td>0.894861</td>\n",
       "    </tr>\n",
       "    <tr>\n",
       "      <th>r2_ridge_2</th>\n",
       "      <td>0.894862</td>\n",
       "    </tr>\n",
       "    <tr>\n",
       "      <th>r2_ridge</th>\n",
       "      <td>0.894863</td>\n",
       "    </tr>\n",
       "    <tr>\n",
       "      <th>r2_lasso_2</th>\n",
       "      <td>0.894916</td>\n",
       "    </tr>\n",
       "    <tr>\n",
       "      <th>r2_lasso</th>\n",
       "      <td>0.894981</td>\n",
       "    </tr>\n",
       "    <tr>\n",
       "      <th>r2_reg_rf</th>\n",
       "      <td>0.963435</td>\n",
       "    </tr>\n",
       "  </tbody>\n",
       "</table>\n",
       "</div>"
      ],
      "text/plain": [
       "            R2 Galaxies\n",
       "r2_linReg      0.894861\n",
       "r2_ridge_2     0.894862\n",
       "r2_ridge       0.894863\n",
       "r2_lasso_2     0.894916\n",
       "r2_lasso       0.894981\n",
       "r2_reg_rf      0.963435"
      ]
     },
     "execution_count": 45,
     "metadata": {},
     "output_type": "execute_result"
    }
   ],
   "source": [
    "d3 = d2.sort_values(by='R2 Galaxies')\n",
    "d3"
   ]
  },
  {
   "cell_type": "code",
   "execution_count": null,
   "id": "bccd1c57",
   "metadata": {},
   "outputs": [],
   "source": []
  }
 ],
 "metadata": {
  "kernelspec": {
   "display_name": "Python 3",
   "language": "python",
   "name": "python3"
  },
  "language_info": {
   "codemirror_mode": {
    "name": "ipython",
    "version": 3
   },
   "file_extension": ".py",
   "mimetype": "text/x-python",
   "name": "python",
   "nbconvert_exporter": "python",
   "pygments_lexer": "ipython3",
   "version": "3.8.8"
  }
 },
 "nbformat": 4,
 "nbformat_minor": 5
}
