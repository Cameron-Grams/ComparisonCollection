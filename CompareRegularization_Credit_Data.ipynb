{
 "cells": [
  {
   "cell_type": "code",
   "execution_count": 1,
   "id": "dc356407",
   "metadata": {},
   "outputs": [],
   "source": [
    "import pandas as pd\n",
    "import numpy as np\n",
    "import matplotlib.pyplot as plt"
   ]
  },
  {
   "cell_type": "code",
   "execution_count": 2,
   "id": "d1ceb0e8",
   "metadata": {},
   "outputs": [],
   "source": [
    "from sklearn.model_selection import train_test_split\n",
    "from sklearn.linear_model import LinearRegression, Lasso, Ridge\n",
    "\n",
    "from sklearn.metrics import r2_score"
   ]
  },
  {
   "cell_type": "code",
   "execution_count": 3,
   "id": "8d323ba5",
   "metadata": {},
   "outputs": [],
   "source": [
    "from sklearn.ensemble import RandomForestRegressor"
   ]
  },
  {
   "cell_type": "code",
   "execution_count": 4,
   "id": "3881fd21",
   "metadata": {},
   "outputs": [],
   "source": [
    "df = pd.read_csv('./data/Credit.csv')"
   ]
  },
  {
   "cell_type": "code",
   "execution_count": 5,
   "id": "33b39ef3",
   "metadata": {},
   "outputs": [
    {
     "data": {
      "text/html": [
       "<div>\n",
       "<style scoped>\n",
       "    .dataframe tbody tr th:only-of-type {\n",
       "        vertical-align: middle;\n",
       "    }\n",
       "\n",
       "    .dataframe tbody tr th {\n",
       "        vertical-align: top;\n",
       "    }\n",
       "\n",
       "    .dataframe thead th {\n",
       "        text-align: right;\n",
       "    }\n",
       "</style>\n",
       "<table border=\"1\" class=\"dataframe\">\n",
       "  <thead>\n",
       "    <tr style=\"text-align: right;\">\n",
       "      <th></th>\n",
       "      <th>Income</th>\n",
       "      <th>Limit</th>\n",
       "      <th>Rating</th>\n",
       "      <th>Cards</th>\n",
       "      <th>Age</th>\n",
       "      <th>Education</th>\n",
       "      <th>Own</th>\n",
       "      <th>Student</th>\n",
       "      <th>Married</th>\n",
       "      <th>Region</th>\n",
       "      <th>Balance</th>\n",
       "    </tr>\n",
       "  </thead>\n",
       "  <tbody>\n",
       "    <tr>\n",
       "      <th>0</th>\n",
       "      <td>14.891</td>\n",
       "      <td>3606</td>\n",
       "      <td>283</td>\n",
       "      <td>2</td>\n",
       "      <td>34</td>\n",
       "      <td>11</td>\n",
       "      <td>No</td>\n",
       "      <td>No</td>\n",
       "      <td>Yes</td>\n",
       "      <td>South</td>\n",
       "      <td>333</td>\n",
       "    </tr>\n",
       "    <tr>\n",
       "      <th>1</th>\n",
       "      <td>106.025</td>\n",
       "      <td>6645</td>\n",
       "      <td>483</td>\n",
       "      <td>3</td>\n",
       "      <td>82</td>\n",
       "      <td>15</td>\n",
       "      <td>Yes</td>\n",
       "      <td>Yes</td>\n",
       "      <td>Yes</td>\n",
       "      <td>West</td>\n",
       "      <td>903</td>\n",
       "    </tr>\n",
       "    <tr>\n",
       "      <th>2</th>\n",
       "      <td>104.593</td>\n",
       "      <td>7075</td>\n",
       "      <td>514</td>\n",
       "      <td>4</td>\n",
       "      <td>71</td>\n",
       "      <td>11</td>\n",
       "      <td>No</td>\n",
       "      <td>No</td>\n",
       "      <td>No</td>\n",
       "      <td>West</td>\n",
       "      <td>580</td>\n",
       "    </tr>\n",
       "    <tr>\n",
       "      <th>3</th>\n",
       "      <td>148.924</td>\n",
       "      <td>9504</td>\n",
       "      <td>681</td>\n",
       "      <td>3</td>\n",
       "      <td>36</td>\n",
       "      <td>11</td>\n",
       "      <td>Yes</td>\n",
       "      <td>No</td>\n",
       "      <td>No</td>\n",
       "      <td>West</td>\n",
       "      <td>964</td>\n",
       "    </tr>\n",
       "    <tr>\n",
       "      <th>4</th>\n",
       "      <td>55.882</td>\n",
       "      <td>4897</td>\n",
       "      <td>357</td>\n",
       "      <td>2</td>\n",
       "      <td>68</td>\n",
       "      <td>16</td>\n",
       "      <td>No</td>\n",
       "      <td>No</td>\n",
       "      <td>Yes</td>\n",
       "      <td>South</td>\n",
       "      <td>331</td>\n",
       "    </tr>\n",
       "  </tbody>\n",
       "</table>\n",
       "</div>"
      ],
      "text/plain": [
       "    Income  Limit  Rating  Cards  Age  Education  Own Student Married Region  \\\n",
       "0   14.891   3606     283      2   34         11   No      No     Yes  South   \n",
       "1  106.025   6645     483      3   82         15  Yes     Yes     Yes   West   \n",
       "2  104.593   7075     514      4   71         11   No      No      No   West   \n",
       "3  148.924   9504     681      3   36         11  Yes      No      No   West   \n",
       "4   55.882   4897     357      2   68         16   No      No     Yes  South   \n",
       "\n",
       "   Balance  \n",
       "0      333  \n",
       "1      903  \n",
       "2      580  \n",
       "3      964  \n",
       "4      331  "
      ]
     },
     "execution_count": 5,
     "metadata": {},
     "output_type": "execute_result"
    }
   ],
   "source": [
    "df.head()"
   ]
  },
  {
   "cell_type": "code",
   "execution_count": 6,
   "id": "f5c8f5bb",
   "metadata": {},
   "outputs": [],
   "source": [
    "cols = df.columns"
   ]
  },
  {
   "cell_type": "code",
   "execution_count": 7,
   "id": "4e5212c2",
   "metadata": {},
   "outputs": [
    {
     "data": {
      "text/plain": [
       "Index(['Income', 'Limit', 'Rating', 'Cards', 'Age', 'Education', 'Own',\n",
       "       'Student', 'Married', 'Region', 'Balance'],\n",
       "      dtype='object')"
      ]
     },
     "execution_count": 7,
     "metadata": {},
     "output_type": "execute_result"
    }
   ],
   "source": [
    "cols"
   ]
  },
  {
   "cell_type": "code",
   "execution_count": 8,
   "id": "8c10f602",
   "metadata": {},
   "outputs": [],
   "source": [
    "region_codes = {'North': 1, 'South': 2, 'East': 3, 'West': 4}"
   ]
  },
  {
   "cell_type": "code",
   "execution_count": 9,
   "id": "93743308",
   "metadata": {},
   "outputs": [],
   "source": [
    "region_c = [region_codes[r] for r in df['Region']]"
   ]
  },
  {
   "cell_type": "code",
   "execution_count": 10,
   "id": "22096131",
   "metadata": {},
   "outputs": [],
   "source": [
    "married_c = [1 if c == 'Yes' else 0 for c in df['Married'] ]\n",
    "student_c =[1 if c == 'Yes' else 0 for c in df['Married'] ]\n",
    "own_c = [1 if c == 'Yes' else 0 for c in df['Married'] ]"
   ]
  },
  {
   "cell_type": "code",
   "execution_count": 11,
   "id": "a2b2d61b",
   "metadata": {},
   "outputs": [
    {
     "data": {
      "text/html": [
       "<div>\n",
       "<style scoped>\n",
       "    .dataframe tbody tr th:only-of-type {\n",
       "        vertical-align: middle;\n",
       "    }\n",
       "\n",
       "    .dataframe tbody tr th {\n",
       "        vertical-align: top;\n",
       "    }\n",
       "\n",
       "    .dataframe thead th {\n",
       "        text-align: right;\n",
       "    }\n",
       "</style>\n",
       "<table border=\"1\" class=\"dataframe\">\n",
       "  <thead>\n",
       "    <tr style=\"text-align: right;\">\n",
       "      <th></th>\n",
       "      <th>Income</th>\n",
       "      <th>Limit</th>\n",
       "      <th>Rating</th>\n",
       "      <th>Cards</th>\n",
       "      <th>Age</th>\n",
       "      <th>Education</th>\n",
       "      <th>Own</th>\n",
       "      <th>Student</th>\n",
       "      <th>Married</th>\n",
       "      <th>Region</th>\n",
       "      <th>Balance</th>\n",
       "    </tr>\n",
       "  </thead>\n",
       "  <tbody>\n",
       "    <tr>\n",
       "      <th>0</th>\n",
       "      <td>14.891</td>\n",
       "      <td>3606</td>\n",
       "      <td>283</td>\n",
       "      <td>2</td>\n",
       "      <td>34</td>\n",
       "      <td>11</td>\n",
       "      <td>1</td>\n",
       "      <td>1</td>\n",
       "      <td>1</td>\n",
       "      <td>2</td>\n",
       "      <td>333</td>\n",
       "    </tr>\n",
       "    <tr>\n",
       "      <th>1</th>\n",
       "      <td>106.025</td>\n",
       "      <td>6645</td>\n",
       "      <td>483</td>\n",
       "      <td>3</td>\n",
       "      <td>82</td>\n",
       "      <td>15</td>\n",
       "      <td>1</td>\n",
       "      <td>1</td>\n",
       "      <td>1</td>\n",
       "      <td>4</td>\n",
       "      <td>903</td>\n",
       "    </tr>\n",
       "    <tr>\n",
       "      <th>2</th>\n",
       "      <td>104.593</td>\n",
       "      <td>7075</td>\n",
       "      <td>514</td>\n",
       "      <td>4</td>\n",
       "      <td>71</td>\n",
       "      <td>11</td>\n",
       "      <td>0</td>\n",
       "      <td>0</td>\n",
       "      <td>0</td>\n",
       "      <td>4</td>\n",
       "      <td>580</td>\n",
       "    </tr>\n",
       "    <tr>\n",
       "      <th>3</th>\n",
       "      <td>148.924</td>\n",
       "      <td>9504</td>\n",
       "      <td>681</td>\n",
       "      <td>3</td>\n",
       "      <td>36</td>\n",
       "      <td>11</td>\n",
       "      <td>0</td>\n",
       "      <td>0</td>\n",
       "      <td>0</td>\n",
       "      <td>4</td>\n",
       "      <td>964</td>\n",
       "    </tr>\n",
       "    <tr>\n",
       "      <th>4</th>\n",
       "      <td>55.882</td>\n",
       "      <td>4897</td>\n",
       "      <td>357</td>\n",
       "      <td>2</td>\n",
       "      <td>68</td>\n",
       "      <td>16</td>\n",
       "      <td>1</td>\n",
       "      <td>1</td>\n",
       "      <td>1</td>\n",
       "      <td>2</td>\n",
       "      <td>331</td>\n",
       "    </tr>\n",
       "  </tbody>\n",
       "</table>\n",
       "</div>"
      ],
      "text/plain": [
       "    Income  Limit  Rating  Cards  Age  Education  Own  Student  Married  \\\n",
       "0   14.891   3606     283      2   34         11    1        1        1   \n",
       "1  106.025   6645     483      3   82         15    1        1        1   \n",
       "2  104.593   7075     514      4   71         11    0        0        0   \n",
       "3  148.924   9504     681      3   36         11    0        0        0   \n",
       "4   55.882   4897     357      2   68         16    1        1        1   \n",
       "\n",
       "   Region  Balance  \n",
       "0       2      333  \n",
       "1       4      903  \n",
       "2       4      580  \n",
       "3       4      964  \n",
       "4       2      331  "
      ]
     },
     "execution_count": 11,
     "metadata": {},
     "output_type": "execute_result"
    }
   ],
   "source": [
    "df['Region'] = region_c\n",
    "df['Married'] = married_c\n",
    "df['Student'] = student_c\n",
    "df['Own'] = own_c\n",
    "df.head()"
   ]
  },
  {
   "cell_type": "code",
   "execution_count": 12,
   "id": "acfa4317",
   "metadata": {},
   "outputs": [
    {
     "data": {
      "text/plain": [
       "(400, 400)"
      ]
     },
     "execution_count": 12,
     "metadata": {},
     "output_type": "execute_result"
    }
   ],
   "source": [
    "# The target is to predict the Median House Value from the 8 features collected\n",
    "X = df[['Income', 'Limit', 'Rating', 'Cards', 'Age', 'Education', 'Own',\n",
    "       'Student', 'Married', 'Region']]\n",
    "y = df[['Balance' ]]\n",
    "len(X), len(y)"
   ]
  },
  {
   "cell_type": "code",
   "execution_count": null,
   "id": "7baf850e",
   "metadata": {},
   "outputs": [],
   "source": []
  },
  {
   "cell_type": "code",
   "execution_count": 13,
   "id": "66538c9f",
   "metadata": {},
   "outputs": [],
   "source": [
    "X_train, X_test, y_train, y_test = train_test_split(X, y)"
   ]
  },
  {
   "cell_type": "markdown",
   "id": "bf96b348",
   "metadata": {},
   "source": [
    "## Linear Regression Model"
   ]
  },
  {
   "cell_type": "code",
   "execution_count": 14,
   "id": "a1a88dc5",
   "metadata": {},
   "outputs": [],
   "source": [
    "reg = LinearRegression()"
   ]
  },
  {
   "cell_type": "code",
   "execution_count": 15,
   "id": "737f5891",
   "metadata": {},
   "outputs": [
    {
     "data": {
      "text/plain": [
       "LinearRegression()"
      ]
     },
     "execution_count": 15,
     "metadata": {},
     "output_type": "execute_result"
    }
   ],
   "source": [
    "reg.fit(X_train, y_train)"
   ]
  },
  {
   "cell_type": "code",
   "execution_count": 16,
   "id": "1f1bf0ef",
   "metadata": {},
   "outputs": [],
   "source": [
    "pred_linReg = reg.predict(X_test)"
   ]
  },
  {
   "cell_type": "code",
   "execution_count": 17,
   "id": "4713a039",
   "metadata": {},
   "outputs": [
    {
     "data": {
      "text/plain": [
       "0.866476314394418"
      ]
     },
     "execution_count": 17,
     "metadata": {},
     "output_type": "execute_result"
    }
   ],
   "source": [
    "r2_linReg = r2_score(y_test, pred_linReg)\n",
    "r2_linReg"
   ]
  },
  {
   "cell_type": "code",
   "execution_count": 18,
   "id": "c48f6f08",
   "metadata": {},
   "outputs": [],
   "source": [
    "linReg = {'r2_linReg': r2_linReg}"
   ]
  },
  {
   "cell_type": "markdown",
   "id": "b9af4460",
   "metadata": {},
   "source": [
    "## Lasso Models L1 Regularization"
   ]
  },
  {
   "cell_type": "code",
   "execution_count": 19,
   "id": "731e8f10",
   "metadata": {},
   "outputs": [],
   "source": [
    "reg_lso = Lasso()"
   ]
  },
  {
   "cell_type": "code",
   "execution_count": 20,
   "id": "7dcd4a33",
   "metadata": {},
   "outputs": [
    {
     "name": "stderr",
     "output_type": "stream",
     "text": [
      "/home/cameron/anaconda3/lib/python3.8/site-packages/sklearn/linear_model/_coordinate_descent.py:530: ConvergenceWarning: Objective did not converge. You might want to increase the number of iterations. Duality gap: 3648078.719757486, tolerance: 6440.591459666667\n",
      "  model = cd_fast.enet_coordinate_descent(\n"
     ]
    },
    {
     "data": {
      "text/plain": [
       "Lasso()"
      ]
     },
     "execution_count": 20,
     "metadata": {},
     "output_type": "execute_result"
    }
   ],
   "source": [
    "reg_lso.fit(X_train, y_train)"
   ]
  },
  {
   "cell_type": "code",
   "execution_count": 21,
   "id": "ed8640cd",
   "metadata": {},
   "outputs": [],
   "source": [
    "pred_lso = reg_lso.predict(X_test)"
   ]
  },
  {
   "cell_type": "code",
   "execution_count": 22,
   "id": "53ab9119",
   "metadata": {},
   "outputs": [
    {
     "data": {
      "text/plain": [
       "0.8666219046655093"
      ]
     },
     "execution_count": 22,
     "metadata": {},
     "output_type": "execute_result"
    }
   ],
   "source": [
    "r2_lasso = r2_score(y_test, pred_lso)\n",
    "r2_lasso"
   ]
  },
  {
   "cell_type": "code",
   "execution_count": 23,
   "id": "c1f0cc3c",
   "metadata": {},
   "outputs": [],
   "source": [
    "lasso = {'r2_lasso': r2_lasso}"
   ]
  },
  {
   "cell_type": "markdown",
   "id": "2d0aa979",
   "metadata": {},
   "source": [
    "### Reduce the amount of L1 Regularization"
   ]
  },
  {
   "cell_type": "code",
   "execution_count": 24,
   "id": "a6170d03",
   "metadata": {},
   "outputs": [],
   "source": [
    "reg_lso_2 = Lasso(alpha=0.5)"
   ]
  },
  {
   "cell_type": "code",
   "execution_count": 25,
   "id": "62b5243c",
   "metadata": {},
   "outputs": [
    {
     "name": "stderr",
     "output_type": "stream",
     "text": [
      "/home/cameron/anaconda3/lib/python3.8/site-packages/sklearn/linear_model/_coordinate_descent.py:530: ConvergenceWarning: Objective did not converge. You might want to increase the number of iterations. Duality gap: 3709997.307781775, tolerance: 6440.591459666667\n",
      "  model = cd_fast.enet_coordinate_descent(\n"
     ]
    },
    {
     "data": {
      "text/plain": [
       "Lasso(alpha=0.5)"
      ]
     },
     "execution_count": 25,
     "metadata": {},
     "output_type": "execute_result"
    }
   ],
   "source": [
    "reg_lso_2.fit(X_train, y_train)"
   ]
  },
  {
   "cell_type": "code",
   "execution_count": 26,
   "id": "a968d11b",
   "metadata": {},
   "outputs": [],
   "source": [
    "pred_lso_2 = reg_lso_2.predict(X_test)"
   ]
  },
  {
   "cell_type": "code",
   "execution_count": 27,
   "id": "aa53bea0",
   "metadata": {},
   "outputs": [
    {
     "data": {
      "text/plain": [
       "0.8665646484121408"
      ]
     },
     "execution_count": 27,
     "metadata": {},
     "output_type": "execute_result"
    }
   ],
   "source": [
    "r2_lasso_2 = r2_score(y_test, pred_lso_2)\n",
    "r2_lasso_2"
   ]
  },
  {
   "cell_type": "code",
   "execution_count": 28,
   "id": "0ddf3e2e",
   "metadata": {},
   "outputs": [],
   "source": [
    "lasso_2 = {'r2_lasso_2': r2_lasso_2}"
   ]
  },
  {
   "cell_type": "markdown",
   "id": "8cb96d9c",
   "metadata": {},
   "source": [
    "## Ridge Model L2 Regularization"
   ]
  },
  {
   "cell_type": "code",
   "execution_count": 29,
   "id": "196f4e70",
   "metadata": {},
   "outputs": [],
   "source": [
    "reg_ridge = Ridge()"
   ]
  },
  {
   "cell_type": "code",
   "execution_count": 30,
   "id": "a842fa48",
   "metadata": {},
   "outputs": [
    {
     "data": {
      "text/plain": [
       "Ridge()"
      ]
     },
     "execution_count": 30,
     "metadata": {},
     "output_type": "execute_result"
    }
   ],
   "source": [
    "reg_ridge.fit(X_train, y_train)"
   ]
  },
  {
   "cell_type": "code",
   "execution_count": 31,
   "id": "a5912eba",
   "metadata": {},
   "outputs": [],
   "source": [
    "pred_ridge = reg_ridge.predict(X_test)"
   ]
  },
  {
   "cell_type": "code",
   "execution_count": 32,
   "id": "f0f50e97",
   "metadata": {},
   "outputs": [
    {
     "data": {
      "text/plain": [
       "0.8664884109167852"
      ]
     },
     "execution_count": 32,
     "metadata": {},
     "output_type": "execute_result"
    }
   ],
   "source": [
    "r2_ridge = r2_score(y_test, pred_ridge)\n",
    "r2_ridge"
   ]
  },
  {
   "cell_type": "code",
   "execution_count": 33,
   "id": "0eff1377",
   "metadata": {},
   "outputs": [],
   "source": [
    "ridge = {'r2_ridge': r2_ridge}"
   ]
  },
  {
   "cell_type": "markdown",
   "id": "742526ff",
   "metadata": {},
   "source": [
    "### Reduced Ridge Regression"
   ]
  },
  {
   "cell_type": "code",
   "execution_count": 34,
   "id": "58b404c5",
   "metadata": {},
   "outputs": [],
   "source": [
    "reg_ridge_2 = Ridge(alpha=0.5)"
   ]
  },
  {
   "cell_type": "code",
   "execution_count": 35,
   "id": "1af06a88",
   "metadata": {},
   "outputs": [
    {
     "data": {
      "text/plain": [
       "Ridge(alpha=0.5)"
      ]
     },
     "execution_count": 35,
     "metadata": {},
     "output_type": "execute_result"
    }
   ],
   "source": [
    "reg_ridge_2.fit(X_train, y_train)"
   ]
  },
  {
   "cell_type": "code",
   "execution_count": 36,
   "id": "6c001720",
   "metadata": {},
   "outputs": [],
   "source": [
    "pred_ridge_2 = reg_ridge_2.predict(X_test)"
   ]
  },
  {
   "cell_type": "code",
   "execution_count": 37,
   "id": "faf376b5",
   "metadata": {},
   "outputs": [
    {
     "data": {
      "text/plain": [
       "0.8664823932417149"
      ]
     },
     "execution_count": 37,
     "metadata": {},
     "output_type": "execute_result"
    }
   ],
   "source": [
    "r2_ridge_2 = r2_score(y_test, pred_ridge_2)\n",
    "r2_ridge_2"
   ]
  },
  {
   "cell_type": "code",
   "execution_count": 38,
   "id": "3206f60e",
   "metadata": {},
   "outputs": [],
   "source": [
    "ridge_2 = {'r2_ridge_2': r2_ridge_2}"
   ]
  },
  {
   "cell_type": "markdown",
   "id": "b006a23d",
   "metadata": {},
   "source": [
    "## Compare non-linear model: Random Forest"
   ]
  },
  {
   "cell_type": "code",
   "execution_count": 39,
   "id": "4763b6cd",
   "metadata": {},
   "outputs": [],
   "source": [
    "reg_rf = RandomForestRegressor()"
   ]
  },
  {
   "cell_type": "code",
   "execution_count": 40,
   "id": "20c4942f",
   "metadata": {},
   "outputs": [
    {
     "name": "stderr",
     "output_type": "stream",
     "text": [
      "<ipython-input-40-cde1da73c75f>:1: DataConversionWarning: A column-vector y was passed when a 1d array was expected. Please change the shape of y to (n_samples,), for example using ravel().\n",
      "  reg_rf.fit(X_train, y_train)\n"
     ]
    },
    {
     "data": {
      "text/plain": [
       "0.8599866293456915"
      ]
     },
     "execution_count": 40,
     "metadata": {},
     "output_type": "execute_result"
    }
   ],
   "source": [
    "reg_rf.fit(X_train, y_train)\n",
    "pred_reg_rf = reg_rf.predict(X_test)\n",
    "r2_reg_rf = r2_score(y_test, pred_reg_rf)\n",
    "r2_reg_rf"
   ]
  },
  {
   "cell_type": "code",
   "execution_count": 41,
   "id": "d71033a1",
   "metadata": {},
   "outputs": [],
   "source": [
    "r2_rf = {'r2_reg_rf': r2_reg_rf}"
   ]
  },
  {
   "cell_type": "code",
   "execution_count": null,
   "id": "4af27da6",
   "metadata": {},
   "outputs": [],
   "source": []
  },
  {
   "cell_type": "code",
   "execution_count": null,
   "id": "9f32fa4c",
   "metadata": {},
   "outputs": [],
   "source": []
  },
  {
   "cell_type": "markdown",
   "id": "10c3a230",
   "metadata": {},
   "source": [
    "## Compare the various models"
   ]
  },
  {
   "cell_type": "code",
   "execution_count": 42,
   "id": "198c3b6f",
   "metadata": {},
   "outputs": [],
   "source": [
    "obj = [linReg, lasso, lasso_2, ridge, ridge_2, r2_rf]"
   ]
  },
  {
   "cell_type": "code",
   "execution_count": 43,
   "id": "ba0e1c66",
   "metadata": {},
   "outputs": [],
   "source": [
    "o2 = {}\n",
    "names = []\n",
    "for d in obj:\n",
    "    for k,v in d.items():\n",
    "        names.append(k)\n",
    "        o2[k] = v"
   ]
  },
  {
   "cell_type": "code",
   "execution_count": 44,
   "id": "83cfff24",
   "metadata": {},
   "outputs": [
    {
     "data": {
      "text/plain": [
       "{'r2_linReg': 0.866476314394418,\n",
       " 'r2_lasso': 0.8666219046655093,\n",
       " 'r2_lasso_2': 0.8665646484121408,\n",
       " 'r2_ridge': 0.8664884109167852,\n",
       " 'r2_ridge_2': 0.8664823932417149,\n",
       " 'r2_reg_rf': 0.8599866293456915}"
      ]
     },
     "execution_count": 44,
     "metadata": {},
     "output_type": "execute_result"
    }
   ],
   "source": [
    "o2"
   ]
  },
  {
   "cell_type": "code",
   "execution_count": 45,
   "id": "232229c8",
   "metadata": {},
   "outputs": [],
   "source": [
    "d2 = pd.DataFrame(o2, index=['R2'])"
   ]
  },
  {
   "cell_type": "code",
   "execution_count": 46,
   "id": "62856ccc",
   "metadata": {},
   "outputs": [
    {
     "data": {
      "text/html": [
       "<div>\n",
       "<style scoped>\n",
       "    .dataframe tbody tr th:only-of-type {\n",
       "        vertical-align: middle;\n",
       "    }\n",
       "\n",
       "    .dataframe tbody tr th {\n",
       "        vertical-align: top;\n",
       "    }\n",
       "\n",
       "    .dataframe thead th {\n",
       "        text-align: right;\n",
       "    }\n",
       "</style>\n",
       "<table border=\"1\" class=\"dataframe\">\n",
       "  <thead>\n",
       "    <tr style=\"text-align: right;\">\n",
       "      <th></th>\n",
       "      <th>R2</th>\n",
       "    </tr>\n",
       "  </thead>\n",
       "  <tbody>\n",
       "    <tr>\n",
       "      <th>r2_linReg</th>\n",
       "      <td>0.866476</td>\n",
       "    </tr>\n",
       "    <tr>\n",
       "      <th>r2_lasso</th>\n",
       "      <td>0.866622</td>\n",
       "    </tr>\n",
       "    <tr>\n",
       "      <th>r2_lasso_2</th>\n",
       "      <td>0.866565</td>\n",
       "    </tr>\n",
       "    <tr>\n",
       "      <th>r2_ridge</th>\n",
       "      <td>0.866488</td>\n",
       "    </tr>\n",
       "    <tr>\n",
       "      <th>r2_ridge_2</th>\n",
       "      <td>0.866482</td>\n",
       "    </tr>\n",
       "    <tr>\n",
       "      <th>r2_reg_rf</th>\n",
       "      <td>0.859987</td>\n",
       "    </tr>\n",
       "  </tbody>\n",
       "</table>\n",
       "</div>"
      ],
      "text/plain": [
       "                  R2\n",
       "r2_linReg   0.866476\n",
       "r2_lasso    0.866622\n",
       "r2_lasso_2  0.866565\n",
       "r2_ridge    0.866488\n",
       "r2_ridge_2  0.866482\n",
       "r2_reg_rf   0.859987"
      ]
     },
     "execution_count": 46,
     "metadata": {},
     "output_type": "execute_result"
    }
   ],
   "source": [
    "d2 = d2.T\n",
    "d2"
   ]
  },
  {
   "cell_type": "code",
   "execution_count": 47,
   "id": "3215da31",
   "metadata": {},
   "outputs": [
    {
     "data": {
      "text/html": [
       "<div>\n",
       "<style scoped>\n",
       "    .dataframe tbody tr th:only-of-type {\n",
       "        vertical-align: middle;\n",
       "    }\n",
       "\n",
       "    .dataframe tbody tr th {\n",
       "        vertical-align: top;\n",
       "    }\n",
       "\n",
       "    .dataframe thead th {\n",
       "        text-align: right;\n",
       "    }\n",
       "</style>\n",
       "<table border=\"1\" class=\"dataframe\">\n",
       "  <thead>\n",
       "    <tr style=\"text-align: right;\">\n",
       "      <th></th>\n",
       "      <th>R2</th>\n",
       "    </tr>\n",
       "  </thead>\n",
       "  <tbody>\n",
       "    <tr>\n",
       "      <th>r2_reg_rf</th>\n",
       "      <td>0.859987</td>\n",
       "    </tr>\n",
       "    <tr>\n",
       "      <th>r2_linReg</th>\n",
       "      <td>0.866476</td>\n",
       "    </tr>\n",
       "    <tr>\n",
       "      <th>r2_ridge_2</th>\n",
       "      <td>0.866482</td>\n",
       "    </tr>\n",
       "    <tr>\n",
       "      <th>r2_ridge</th>\n",
       "      <td>0.866488</td>\n",
       "    </tr>\n",
       "    <tr>\n",
       "      <th>r2_lasso_2</th>\n",
       "      <td>0.866565</td>\n",
       "    </tr>\n",
       "    <tr>\n",
       "      <th>r2_lasso</th>\n",
       "      <td>0.866622</td>\n",
       "    </tr>\n",
       "  </tbody>\n",
       "</table>\n",
       "</div>"
      ],
      "text/plain": [
       "                  R2\n",
       "r2_reg_rf   0.859987\n",
       "r2_linReg   0.866476\n",
       "r2_ridge_2  0.866482\n",
       "r2_ridge    0.866488\n",
       "r2_lasso_2  0.866565\n",
       "r2_lasso    0.866622"
      ]
     },
     "execution_count": 47,
     "metadata": {},
     "output_type": "execute_result"
    }
   ],
   "source": [
    "d3 = d2.sort_values(by='R2')\n",
    "d3"
   ]
  },
  {
   "cell_type": "code",
   "execution_count": null,
   "id": "bccd1c57",
   "metadata": {},
   "outputs": [],
   "source": []
  }
 ],
 "metadata": {
  "kernelspec": {
   "display_name": "Python 3",
   "language": "python",
   "name": "python3"
  },
  "language_info": {
   "codemirror_mode": {
    "name": "ipython",
    "version": 3
   },
   "file_extension": ".py",
   "mimetype": "text/x-python",
   "name": "python",
   "nbconvert_exporter": "python",
   "pygments_lexer": "ipython3",
   "version": "3.8.8"
  }
 },
 "nbformat": 4,
 "nbformat_minor": 5
}
