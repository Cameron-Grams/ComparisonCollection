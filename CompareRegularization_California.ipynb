{
 "cells": [
  {
   "cell_type": "code",
   "execution_count": 1,
   "id": "dc356407",
   "metadata": {},
   "outputs": [],
   "source": [
    "import pandas as pd\n",
    "import numpy as np\n",
    "import matplotlib.pyplot as plt"
   ]
  },
  {
   "cell_type": "code",
   "execution_count": 2,
   "id": "d1ceb0e8",
   "metadata": {},
   "outputs": [],
   "source": [
    "from sklearn.model_selection import train_test_split\n",
    "from sklearn.linear_model import LinearRegression, Lasso, Ridge\n",
    "\n",
    "from sklearn.metrics import r2_score"
   ]
  },
  {
   "cell_type": "code",
   "execution_count": 3,
   "id": "8d323ba5",
   "metadata": {},
   "outputs": [],
   "source": [
    "from sklearn.ensemble import RandomForestRegressor"
   ]
  },
  {
   "cell_type": "code",
   "execution_count": null,
   "id": "3881fd21",
   "metadata": {},
   "outputs": [],
   "source": []
  },
  {
   "cell_type": "code",
   "execution_count": null,
   "id": "33b39ef3",
   "metadata": {},
   "outputs": [],
   "source": []
  },
  {
   "cell_type": "code",
   "execution_count": 4,
   "id": "f5c8f5bb",
   "metadata": {},
   "outputs": [],
   "source": [
    "from sklearn.datasets import fetch_california_housing\n",
    "housing = fetch_california_housing()\n",
    "# housing"
   ]
  },
  {
   "cell_type": "code",
   "execution_count": 5,
   "id": "4e5212c2",
   "metadata": {},
   "outputs": [
    {
     "name": "stdout",
     "output_type": "stream",
     "text": [
      ".. _california_housing_dataset:\n",
      "\n",
      "California Housing dataset\n",
      "--------------------------\n",
      "\n",
      "**Data Set Characteristics:**\n",
      "\n",
      "    :Number of Instances: 20640\n",
      "\n",
      "    :Number of Attributes: 8 numeric, predictive attributes and the target\n",
      "\n",
      "    :Attribute Information:\n",
      "        - MedInc        median income in block\n",
      "        - HouseAge      median house age in block\n",
      "        - AveRooms      average number of rooms\n",
      "        - AveBedrms     average number of bedrooms\n",
      "        - Population    block population\n",
      "        - AveOccup      average house occupancy\n",
      "        - Latitude      house block latitude\n",
      "        - Longitude     house block longitude\n",
      "\n",
      "    :Missing Attribute Values: None\n",
      "\n",
      "This dataset was obtained from the StatLib repository.\n",
      "http://lib.stat.cmu.edu/datasets/\n",
      "\n",
      "The target variable is the median house value for California districts.\n",
      "\n",
      "This dataset was derived from the 1990 U.S. census, using one row per census\n",
      "block group. A block group is the smallest geographical unit for which the U.S.\n",
      "Census Bureau publishes sample data (a block group typically has a population\n",
      "of 600 to 3,000 people).\n",
      "\n",
      "It can be downloaded/loaded using the\n",
      ":func:`sklearn.datasets.fetch_california_housing` function.\n",
      "\n",
      ".. topic:: References\n",
      "\n",
      "    - Pace, R. Kelley and Ronald Barry, Sparse Spatial Autoregressions,\n",
      "      Statistics and Probability Letters, 33 (1997) 291-297\n",
      "\n"
     ]
    }
   ],
   "source": [
    "lines = (housing.DESCR).split('\\n')\n",
    "for line in lines:\n",
    "    print(line)"
   ]
  },
  {
   "cell_type": "code",
   "execution_count": 6,
   "id": "a2b2d61b",
   "metadata": {},
   "outputs": [],
   "source": [
    "df = pd.DataFrame(housing.data, columns=housing.feature_names)"
   ]
  },
  {
   "cell_type": "code",
   "execution_count": 7,
   "id": "acfa4317",
   "metadata": {},
   "outputs": [
    {
     "data": {
      "text/plain": [
       "20640"
      ]
     },
     "execution_count": 7,
     "metadata": {},
     "output_type": "execute_result"
    }
   ],
   "source": [
    "# The target is to predict the Median House Value from the 8 features collected\n",
    "X = housing.data\n",
    "y = housing.target\n",
    "len(y)"
   ]
  },
  {
   "cell_type": "code",
   "execution_count": 8,
   "id": "7baf850e",
   "metadata": {},
   "outputs": [
    {
     "data": {
      "text/html": [
       "<div>\n",
       "<style scoped>\n",
       "    .dataframe tbody tr th:only-of-type {\n",
       "        vertical-align: middle;\n",
       "    }\n",
       "\n",
       "    .dataframe tbody tr th {\n",
       "        vertical-align: top;\n",
       "    }\n",
       "\n",
       "    .dataframe thead th {\n",
       "        text-align: right;\n",
       "    }\n",
       "</style>\n",
       "<table border=\"1\" class=\"dataframe\">\n",
       "  <thead>\n",
       "    <tr style=\"text-align: right;\">\n",
       "      <th></th>\n",
       "      <th>MedInc</th>\n",
       "      <th>HouseAge</th>\n",
       "      <th>AveRooms</th>\n",
       "      <th>AveBedrms</th>\n",
       "      <th>Population</th>\n",
       "      <th>AveOccup</th>\n",
       "      <th>Latitude</th>\n",
       "      <th>Longitude</th>\n",
       "    </tr>\n",
       "  </thead>\n",
       "  <tbody>\n",
       "    <tr>\n",
       "      <th>0</th>\n",
       "      <td>8.3252</td>\n",
       "      <td>41.0</td>\n",
       "      <td>6.984127</td>\n",
       "      <td>1.023810</td>\n",
       "      <td>322.0</td>\n",
       "      <td>2.555556</td>\n",
       "      <td>37.88</td>\n",
       "      <td>-122.23</td>\n",
       "    </tr>\n",
       "    <tr>\n",
       "      <th>1</th>\n",
       "      <td>8.3014</td>\n",
       "      <td>21.0</td>\n",
       "      <td>6.238137</td>\n",
       "      <td>0.971880</td>\n",
       "      <td>2401.0</td>\n",
       "      <td>2.109842</td>\n",
       "      <td>37.86</td>\n",
       "      <td>-122.22</td>\n",
       "    </tr>\n",
       "    <tr>\n",
       "      <th>2</th>\n",
       "      <td>7.2574</td>\n",
       "      <td>52.0</td>\n",
       "      <td>8.288136</td>\n",
       "      <td>1.073446</td>\n",
       "      <td>496.0</td>\n",
       "      <td>2.802260</td>\n",
       "      <td>37.85</td>\n",
       "      <td>-122.24</td>\n",
       "    </tr>\n",
       "    <tr>\n",
       "      <th>3</th>\n",
       "      <td>5.6431</td>\n",
       "      <td>52.0</td>\n",
       "      <td>5.817352</td>\n",
       "      <td>1.073059</td>\n",
       "      <td>558.0</td>\n",
       "      <td>2.547945</td>\n",
       "      <td>37.85</td>\n",
       "      <td>-122.25</td>\n",
       "    </tr>\n",
       "    <tr>\n",
       "      <th>4</th>\n",
       "      <td>3.8462</td>\n",
       "      <td>52.0</td>\n",
       "      <td>6.281853</td>\n",
       "      <td>1.081081</td>\n",
       "      <td>565.0</td>\n",
       "      <td>2.181467</td>\n",
       "      <td>37.85</td>\n",
       "      <td>-122.25</td>\n",
       "    </tr>\n",
       "  </tbody>\n",
       "</table>\n",
       "</div>"
      ],
      "text/plain": [
       "   MedInc  HouseAge  AveRooms  AveBedrms  Population  AveOccup  Latitude  \\\n",
       "0  8.3252      41.0  6.984127   1.023810       322.0  2.555556     37.88   \n",
       "1  8.3014      21.0  6.238137   0.971880      2401.0  2.109842     37.86   \n",
       "2  7.2574      52.0  8.288136   1.073446       496.0  2.802260     37.85   \n",
       "3  5.6431      52.0  5.817352   1.073059       558.0  2.547945     37.85   \n",
       "4  3.8462      52.0  6.281853   1.081081       565.0  2.181467     37.85   \n",
       "\n",
       "   Longitude  \n",
       "0    -122.23  \n",
       "1    -122.22  \n",
       "2    -122.24  \n",
       "3    -122.25  \n",
       "4    -122.25  "
      ]
     },
     "execution_count": 8,
     "metadata": {},
     "output_type": "execute_result"
    }
   ],
   "source": [
    "df.head()"
   ]
  },
  {
   "cell_type": "code",
   "execution_count": 9,
   "id": "66538c9f",
   "metadata": {},
   "outputs": [],
   "source": [
    "X_train, X_test, y_train, y_test = train_test_split(X, y)"
   ]
  },
  {
   "cell_type": "markdown",
   "id": "bf96b348",
   "metadata": {},
   "source": [
    "## Linear Regression Model"
   ]
  },
  {
   "cell_type": "code",
   "execution_count": 10,
   "id": "a1a88dc5",
   "metadata": {},
   "outputs": [],
   "source": [
    "reg = LinearRegression()"
   ]
  },
  {
   "cell_type": "code",
   "execution_count": 11,
   "id": "737f5891",
   "metadata": {},
   "outputs": [
    {
     "data": {
      "text/plain": [
       "LinearRegression()"
      ]
     },
     "execution_count": 11,
     "metadata": {},
     "output_type": "execute_result"
    }
   ],
   "source": [
    "reg.fit(X_train, y_train)"
   ]
  },
  {
   "cell_type": "code",
   "execution_count": 12,
   "id": "1f1bf0ef",
   "metadata": {},
   "outputs": [],
   "source": [
    "pred_linReg = reg.predict(X_test)"
   ]
  },
  {
   "cell_type": "code",
   "execution_count": 13,
   "id": "4713a039",
   "metadata": {},
   "outputs": [
    {
     "data": {
      "text/plain": [
       "0.6143676318619615"
      ]
     },
     "execution_count": 13,
     "metadata": {},
     "output_type": "execute_result"
    }
   ],
   "source": [
    "r2_linReg = r2_score(y_test, pred_linReg)\n",
    "r2_linReg"
   ]
  },
  {
   "cell_type": "code",
   "execution_count": 14,
   "id": "c48f6f08",
   "metadata": {},
   "outputs": [],
   "source": [
    "linReg = {'r2_linReg': r2_linReg}"
   ]
  },
  {
   "cell_type": "markdown",
   "id": "b9af4460",
   "metadata": {},
   "source": [
    "## Lasso Models L1 Regularization"
   ]
  },
  {
   "cell_type": "code",
   "execution_count": 15,
   "id": "731e8f10",
   "metadata": {},
   "outputs": [],
   "source": [
    "reg_lso = Lasso()"
   ]
  },
  {
   "cell_type": "code",
   "execution_count": 16,
   "id": "7dcd4a33",
   "metadata": {},
   "outputs": [
    {
     "data": {
      "text/plain": [
       "Lasso()"
      ]
     },
     "execution_count": 16,
     "metadata": {},
     "output_type": "execute_result"
    }
   ],
   "source": [
    "reg_lso.fit(X_train, y_train)"
   ]
  },
  {
   "cell_type": "code",
   "execution_count": 17,
   "id": "ed8640cd",
   "metadata": {},
   "outputs": [],
   "source": [
    "pred_lso = reg_lso.predict(X_test)"
   ]
  },
  {
   "cell_type": "code",
   "execution_count": 18,
   "id": "53ab9119",
   "metadata": {},
   "outputs": [
    {
     "data": {
      "text/plain": [
       "0.2859427748009815"
      ]
     },
     "execution_count": 18,
     "metadata": {},
     "output_type": "execute_result"
    }
   ],
   "source": [
    "r2_lasso = r2_score(y_test, pred_lso)\n",
    "r2_lasso"
   ]
  },
  {
   "cell_type": "code",
   "execution_count": 19,
   "id": "c1f0cc3c",
   "metadata": {},
   "outputs": [],
   "source": [
    "lasso = {'r2_lasso': r2_lasso}"
   ]
  },
  {
   "cell_type": "markdown",
   "id": "2d0aa979",
   "metadata": {},
   "source": [
    "### Reduce the amount of L1 Regularization"
   ]
  },
  {
   "cell_type": "code",
   "execution_count": 20,
   "id": "a6170d03",
   "metadata": {},
   "outputs": [],
   "source": [
    "reg_lso_2 = Lasso(alpha=0.5)"
   ]
  },
  {
   "cell_type": "code",
   "execution_count": 21,
   "id": "62b5243c",
   "metadata": {},
   "outputs": [
    {
     "data": {
      "text/plain": [
       "Lasso(alpha=0.5)"
      ]
     },
     "execution_count": 21,
     "metadata": {},
     "output_type": "execute_result"
    }
   ],
   "source": [
    "reg_lso_2.fit(X_train, y_train)"
   ]
  },
  {
   "cell_type": "code",
   "execution_count": 22,
   "id": "a968d11b",
   "metadata": {},
   "outputs": [],
   "source": [
    "pred_lso_2 = reg_lso_2.predict(X_test)"
   ]
  },
  {
   "cell_type": "code",
   "execution_count": 23,
   "id": "aa53bea0",
   "metadata": {},
   "outputs": [
    {
     "data": {
      "text/plain": [
       "0.4628431806113248"
      ]
     },
     "execution_count": 23,
     "metadata": {},
     "output_type": "execute_result"
    }
   ],
   "source": [
    "r2_lasso_2 = r2_score(y_test, pred_lso_2)\n",
    "r2_lasso_2"
   ]
  },
  {
   "cell_type": "code",
   "execution_count": 24,
   "id": "0ddf3e2e",
   "metadata": {},
   "outputs": [],
   "source": [
    "lasso_2 = {'r2_lasso_2': r2_lasso_2}"
   ]
  },
  {
   "cell_type": "markdown",
   "id": "8cb96d9c",
   "metadata": {},
   "source": [
    "## Ridge Model L2 Regularization"
   ]
  },
  {
   "cell_type": "code",
   "execution_count": 25,
   "id": "196f4e70",
   "metadata": {},
   "outputs": [],
   "source": [
    "reg_ridge = Ridge()"
   ]
  },
  {
   "cell_type": "code",
   "execution_count": 26,
   "id": "a842fa48",
   "metadata": {},
   "outputs": [
    {
     "data": {
      "text/plain": [
       "Ridge()"
      ]
     },
     "execution_count": 26,
     "metadata": {},
     "output_type": "execute_result"
    }
   ],
   "source": [
    "reg_ridge.fit(X_train, y_train)"
   ]
  },
  {
   "cell_type": "code",
   "execution_count": 27,
   "id": "a5912eba",
   "metadata": {},
   "outputs": [],
   "source": [
    "pred_ridge = reg_ridge.predict(X_test)"
   ]
  },
  {
   "cell_type": "code",
   "execution_count": 28,
   "id": "f0f50e97",
   "metadata": {},
   "outputs": [
    {
     "data": {
      "text/plain": [
       "0.6143690521007702"
      ]
     },
     "execution_count": 28,
     "metadata": {},
     "output_type": "execute_result"
    }
   ],
   "source": [
    "r2_ridge = r2_score(y_test, pred_ridge)\n",
    "r2_ridge"
   ]
  },
  {
   "cell_type": "code",
   "execution_count": 29,
   "id": "0eff1377",
   "metadata": {},
   "outputs": [],
   "source": [
    "ridge = {'r2_ridge': r2_ridge}"
   ]
  },
  {
   "cell_type": "markdown",
   "id": "742526ff",
   "metadata": {},
   "source": [
    "### Reduced Ridge Regression"
   ]
  },
  {
   "cell_type": "code",
   "execution_count": 30,
   "id": "58b404c5",
   "metadata": {},
   "outputs": [],
   "source": [
    "reg_ridge_2 = Ridge(alpha=0.5)"
   ]
  },
  {
   "cell_type": "code",
   "execution_count": 31,
   "id": "1af06a88",
   "metadata": {},
   "outputs": [
    {
     "data": {
      "text/plain": [
       "Ridge(alpha=0.5)"
      ]
     },
     "execution_count": 31,
     "metadata": {},
     "output_type": "execute_result"
    }
   ],
   "source": [
    "reg_ridge_2.fit(X_train, y_train)"
   ]
  },
  {
   "cell_type": "code",
   "execution_count": 32,
   "id": "6c001720",
   "metadata": {},
   "outputs": [],
   "source": [
    "pred_ridge_2 = reg_ridge_2.predict(X_test)"
   ]
  },
  {
   "cell_type": "code",
   "execution_count": 33,
   "id": "faf376b5",
   "metadata": {},
   "outputs": [
    {
     "data": {
      "text/plain": [
       "0.6143683520722076"
      ]
     },
     "execution_count": 33,
     "metadata": {},
     "output_type": "execute_result"
    }
   ],
   "source": [
    "r2_ridge_2 = r2_score(y_test, pred_ridge_2)\n",
    "r2_ridge_2"
   ]
  },
  {
   "cell_type": "code",
   "execution_count": 34,
   "id": "3206f60e",
   "metadata": {},
   "outputs": [],
   "source": [
    "ridge_2 = {'r2_ridge_2': r2_ridge_2}"
   ]
  },
  {
   "cell_type": "markdown",
   "id": "b006a23d",
   "metadata": {},
   "source": [
    "## Compare non-linear model: Random Forest"
   ]
  },
  {
   "cell_type": "code",
   "execution_count": 35,
   "id": "4763b6cd",
   "metadata": {},
   "outputs": [],
   "source": [
    "reg_rf = RandomForestRegressor()"
   ]
  },
  {
   "cell_type": "code",
   "execution_count": 36,
   "id": "20c4942f",
   "metadata": {},
   "outputs": [
    {
     "data": {
      "text/plain": [
       "0.8147080268335121"
      ]
     },
     "execution_count": 36,
     "metadata": {},
     "output_type": "execute_result"
    }
   ],
   "source": [
    "reg_rf.fit(X_train, y_train)\n",
    "pred_reg_rf = reg_rf.predict(X_test)\n",
    "r2_reg_rf = r2_score(y_test, pred_reg_rf)\n",
    "r2_reg_rf"
   ]
  },
  {
   "cell_type": "code",
   "execution_count": 37,
   "id": "d71033a1",
   "metadata": {},
   "outputs": [],
   "source": [
    "r2_rf = {'r2_reg_rf': r2_reg_rf}"
   ]
  },
  {
   "cell_type": "code",
   "execution_count": null,
   "id": "4af27da6",
   "metadata": {},
   "outputs": [],
   "source": []
  },
  {
   "cell_type": "code",
   "execution_count": null,
   "id": "9f32fa4c",
   "metadata": {},
   "outputs": [],
   "source": []
  },
  {
   "cell_type": "markdown",
   "id": "10c3a230",
   "metadata": {},
   "source": [
    "## Compare the various models"
   ]
  },
  {
   "cell_type": "code",
   "execution_count": 38,
   "id": "198c3b6f",
   "metadata": {},
   "outputs": [],
   "source": [
    "obj = [linReg, lasso, lasso_2, ridge, ridge_2, r2_rf]"
   ]
  },
  {
   "cell_type": "code",
   "execution_count": 39,
   "id": "ba0e1c66",
   "metadata": {},
   "outputs": [],
   "source": [
    "o2 = {}\n",
    "names = []\n",
    "for d in obj:\n",
    "    for k,v in d.items():\n",
    "        names.append(k)\n",
    "        o2[k] = v"
   ]
  },
  {
   "cell_type": "code",
   "execution_count": 40,
   "id": "83cfff24",
   "metadata": {},
   "outputs": [
    {
     "data": {
      "text/plain": [
       "{'r2_linReg': 0.6143676318619615,\n",
       " 'r2_lasso': 0.2859427748009815,\n",
       " 'r2_lasso_2': 0.4628431806113248,\n",
       " 'r2_ridge': 0.6143690521007702,\n",
       " 'r2_ridge_2': 0.6143683520722076,\n",
       " 'r2_reg_rf': 0.8147080268335121}"
      ]
     },
     "execution_count": 40,
     "metadata": {},
     "output_type": "execute_result"
    }
   ],
   "source": [
    "o2"
   ]
  },
  {
   "cell_type": "code",
   "execution_count": 44,
   "id": "232229c8",
   "metadata": {},
   "outputs": [],
   "source": [
    "d2 = pd.DataFrame(o2, index=['R2 California House Prices'])"
   ]
  },
  {
   "cell_type": "code",
   "execution_count": 45,
   "id": "62856ccc",
   "metadata": {},
   "outputs": [
    {
     "data": {
      "text/html": [
       "<div>\n",
       "<style scoped>\n",
       "    .dataframe tbody tr th:only-of-type {\n",
       "        vertical-align: middle;\n",
       "    }\n",
       "\n",
       "    .dataframe tbody tr th {\n",
       "        vertical-align: top;\n",
       "    }\n",
       "\n",
       "    .dataframe thead th {\n",
       "        text-align: right;\n",
       "    }\n",
       "</style>\n",
       "<table border=\"1\" class=\"dataframe\">\n",
       "  <thead>\n",
       "    <tr style=\"text-align: right;\">\n",
       "      <th></th>\n",
       "      <th>R2 California House Prices</th>\n",
       "    </tr>\n",
       "  </thead>\n",
       "  <tbody>\n",
       "    <tr>\n",
       "      <th>r2_linReg</th>\n",
       "      <td>0.614368</td>\n",
       "    </tr>\n",
       "    <tr>\n",
       "      <th>r2_lasso</th>\n",
       "      <td>0.285943</td>\n",
       "    </tr>\n",
       "    <tr>\n",
       "      <th>r2_lasso_2</th>\n",
       "      <td>0.462843</td>\n",
       "    </tr>\n",
       "    <tr>\n",
       "      <th>r2_ridge</th>\n",
       "      <td>0.614369</td>\n",
       "    </tr>\n",
       "    <tr>\n",
       "      <th>r2_ridge_2</th>\n",
       "      <td>0.614368</td>\n",
       "    </tr>\n",
       "    <tr>\n",
       "      <th>r2_reg_rf</th>\n",
       "      <td>0.814708</td>\n",
       "    </tr>\n",
       "  </tbody>\n",
       "</table>\n",
       "</div>"
      ],
      "text/plain": [
       "            R2 California House Prices\n",
       "r2_linReg                     0.614368\n",
       "r2_lasso                      0.285943\n",
       "r2_lasso_2                    0.462843\n",
       "r2_ridge                      0.614369\n",
       "r2_ridge_2                    0.614368\n",
       "r2_reg_rf                     0.814708"
      ]
     },
     "execution_count": 45,
     "metadata": {},
     "output_type": "execute_result"
    }
   ],
   "source": [
    "d2 = d2.T\n",
    "d2"
   ]
  },
  {
   "cell_type": "code",
   "execution_count": 46,
   "id": "3215da31",
   "metadata": {},
   "outputs": [
    {
     "data": {
      "text/html": [
       "<div>\n",
       "<style scoped>\n",
       "    .dataframe tbody tr th:only-of-type {\n",
       "        vertical-align: middle;\n",
       "    }\n",
       "\n",
       "    .dataframe tbody tr th {\n",
       "        vertical-align: top;\n",
       "    }\n",
       "\n",
       "    .dataframe thead th {\n",
       "        text-align: right;\n",
       "    }\n",
       "</style>\n",
       "<table border=\"1\" class=\"dataframe\">\n",
       "  <thead>\n",
       "    <tr style=\"text-align: right;\">\n",
       "      <th></th>\n",
       "      <th>R2 California House Prices</th>\n",
       "    </tr>\n",
       "  </thead>\n",
       "  <tbody>\n",
       "    <tr>\n",
       "      <th>r2_lasso</th>\n",
       "      <td>0.285943</td>\n",
       "    </tr>\n",
       "    <tr>\n",
       "      <th>r2_lasso_2</th>\n",
       "      <td>0.462843</td>\n",
       "    </tr>\n",
       "    <tr>\n",
       "      <th>r2_linReg</th>\n",
       "      <td>0.614368</td>\n",
       "    </tr>\n",
       "    <tr>\n",
       "      <th>r2_ridge_2</th>\n",
       "      <td>0.614368</td>\n",
       "    </tr>\n",
       "    <tr>\n",
       "      <th>r2_ridge</th>\n",
       "      <td>0.614369</td>\n",
       "    </tr>\n",
       "    <tr>\n",
       "      <th>r2_reg_rf</th>\n",
       "      <td>0.814708</td>\n",
       "    </tr>\n",
       "  </tbody>\n",
       "</table>\n",
       "</div>"
      ],
      "text/plain": [
       "            R2 California House Prices\n",
       "r2_lasso                      0.285943\n",
       "r2_lasso_2                    0.462843\n",
       "r2_linReg                     0.614368\n",
       "r2_ridge_2                    0.614368\n",
       "r2_ridge                      0.614369\n",
       "r2_reg_rf                     0.814708"
      ]
     },
     "execution_count": 46,
     "metadata": {},
     "output_type": "execute_result"
    }
   ],
   "source": [
    "d3 = d2.sort_values(by='R2 California House Prices')\n",
    "d3"
   ]
  },
  {
   "cell_type": "code",
   "execution_count": null,
   "id": "bccd1c57",
   "metadata": {},
   "outputs": [],
   "source": []
  }
 ],
 "metadata": {
  "kernelspec": {
   "display_name": "Python 3",
   "language": "python",
   "name": "python3"
  },
  "language_info": {
   "codemirror_mode": {
    "name": "ipython",
    "version": 3
   },
   "file_extension": ".py",
   "mimetype": "text/x-python",
   "name": "python",
   "nbconvert_exporter": "python",
   "pygments_lexer": "ipython3",
   "version": "3.8.8"
  }
 },
 "nbformat": 4,
 "nbformat_minor": 5
}
